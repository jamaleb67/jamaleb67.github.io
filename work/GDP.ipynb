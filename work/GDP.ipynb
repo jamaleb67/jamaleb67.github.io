{
 "cells": [
  {
   "cell_type": "code",
   "execution_count": null,
   "metadata": {},
   "outputs": [],
   "source": [
    "pip install numpy"
   ]
  },
  {
   "cell_type": "code",
   "execution_count": null,
   "metadata": {},
   "outputs": [],
   "source": [
    "pip install pandas"
   ]
  },
  {
   "cell_type": "code",
   "execution_count": null,
   "metadata": {},
   "outputs": [],
   "source": [
    "pip install seaborn"
   ]
  },
  {
   "cell_type": "code",
   "execution_count": null,
   "metadata": {},
   "outputs": [],
   "source": [
    "pip install scikit-learn"
   ]
  },
  {
   "cell_type": "code",
   "execution_count": null,
   "metadata": {},
   "outputs": [],
   "source": [
    "#import libraries\n",
    "import numpy as np\n",
    "import pandas as pd\n",
    "import seaborn as sns\n",
    "from matplotlib import pyplot as pyplot\n",
    "from sklearn.preprocessing import LabelEncoder\n",
    "from sklearn.model_selection import train_test_split\n",
    "from sklearn.linear_model import LinearRegression\n",
    "from sklearn.tree import DecisionTreeRegressor\n",
    "from sklearn.ensemble import RandomForestRegressor\n",
    "from sklearn.metrics import mean_squared_error, mean_squared_log_error\n"
   ]
  },
  {
   "cell_type": "code",
   "execution_count": null,
   "metadata": {},
   "outputs": [],
   "source": [
    "pd.set_option('display.max_columns', None)\n",
    "pd.set_option('display.max_rows', None)\n",
    "\n",
    "#load data\n",
    "data = pd.read_csv('GDP by Country 1999-2022.csv', decimal = ',')\n",
    "\n",
    "data = data.replace({'\\\"' :''}, regex=True)\n",
    "data = data.replace({',' :''}, regex=True)\n",
    "#display(data)\n",
    "\n",
    "data = data.astype({'1999' : 'float', '2022' : 'float'})\n",
    "\n",
    "#observe data\n",
    "data.describe(include = 'all')"
   ]
  },
  {
   "cell_type": "code",
   "execution_count": null,
   "metadata": {},
   "outputs": [],
   "source": [
    "#Top 10 GDP in 2022\n",
    "top_10_GDP_2022 = data.sort_values('2022', ascending = False).head(10)\n",
    "fig, ax = pyplot.subplots(figsize = (16, 6))\n",
    "sns.barplot(x = 'Country', y = '2022', data = top_10_GDP_2022, palette = 'Set1')\n",
    "ax.set_xlabel(ax.get_xlabel(), labelpad= 15)\n",
    "ax.set_ylabel('GDP by Country 2022', labelpad= 30)\n",
    "ax.xaxis.label.set_fontsize(16)\n",
    "ax.yaxis.label.set_fontsize(16)\n",
    "pyplot.xticks(rotation = 90)\n",
    "pyplot.title('Title Here', fontsize = 20)\n",
    "pyplot.show()"
   ]
  },
  {
   "cell_type": "code",
   "execution_count": null,
   "metadata": {},
   "outputs": [],
   "source": [
    "#2022 GDP for germany, south korea, UK, US, Mexico, japan and india\n",
    "\n",
    "Countries = data[data[\"Country\"].isin(['Germany', 'South Korea', 'United Kingdom', 'United States', 'Mexico', 'Japan', 'India'])] \n",
    "Countries_GDP_2022 = Countries.sort_values('2022', ascending = False)\n",
    "\n",
    "display(Countries_GDP_2022)\n",
    "\n",
    "fig, ax = pyplot.subplots(figsize = (16, 6))\n",
    "sns.barplot(x = 'Country', y = '2022', data = Countries_GDP_2022, legend=False, palette = 'Set1')\n",
    "ax.set_xlabel(ax.get_xlabel(), labelpad= 15)\n",
    "ax.set_ylabel('GDP by Country 2022', labelpad= 30)\n",
    "ax.xaxis.label.set_fontsize(16)\n",
    "ax.yaxis.label.set_fontsize(16)\n",
    "pyplot.xticks(rotation = 90)\n",
    "pyplot.title('Title Here', fontsize = 20)\n",
    "pyplot.show()"
   ]
  },
  {
   "cell_type": "code",
   "execution_count": null,
   "metadata": {},
   "outputs": [],
   "source": [
    "#Average GDP between 2018-2022 for germany, south korea, UK, US, Mexico, japan and india\n",
    "Countries = data[data[\"Country\"].isin(['Germany', 'South Korea', 'United Kingdom', 'United States', 'Mexico', 'Japan', 'India'])] \n",
    "Countries_GDP_2022 = Countries[['Country', '2018', '2019', '2020', '2021', '2022']]\n",
    "\n",
    "fig, ax = pyplot.subplots(figsize = (16, 6))\n",
    "new_data = pd.melt(Countries_GDP_2022, id_vars = ['Country'], value_vars = ['2018', '2019', '2020', '2021', '2022'], var_name = 'Year', value_name = 'GDP')\n",
    "\n",
    "new_data = new_data.astype({'Country' : 'str'})\n",
    "new_data = new_data.astype({'GDP' : 'float'})\n",
    "\n",
    "#sort_new_data = new_data.sort_values('GDP', ascending = True)\n",
    "#sort_new_data = resort_new_data.sort_values('GDP', ascending = True)\n",
    "\n",
    "display(new_data)\n",
    "\n",
    "sns.pointplot(data = new_data, x = 'Year', y = 'GDP', hue = 'Country', ax = ax, palette = 'nipy_spectral')\n",
    "\n",
    "ax.set_xlabel(ax.get_xlabel(), labelpad= 15)\n",
    "ax.set_ylabel('Average GDP by Country 2018-2022', labelpad= 30)\n",
    "ax.xaxis.label.set_fontsize(16)\n",
    "ax.yaxis.label.set_fontsize(16)\n",
    "pyplot.title('Title Here', fontsize = 20)\n",
    "pyplot.show()"
   ]
  },
  {
   "cell_type": "code",
   "execution_count": null,
   "metadata": {},
   "outputs": [],
   "source": [
    "#Average GDP between 2018-2022 for germany, south korea, UK, Mexico, japan and india ***Without the US because it made the graph look bad***\n",
    "Countries = data[data[\"Country\"].isin(['Germany', 'South Korea', 'United Kingdom', 'Mexico', 'Japan', 'India'])] \n",
    "Countries_GDP_2022 = Countries[['Country', '2018', '2019', '2020', '2021', '2022']]\n",
    "\n",
    "fig, ax = pyplot.subplots(figsize = (16, 8))\n",
    "new_data = pd.melt(Countries_GDP_2022, id_vars = ['Country'], value_vars = ['2018', '2019', '2020', '2021', '2022'], var_name = 'Year', value_name = 'GDP')\n",
    "\n",
    "new_data = new_data.astype({'Country' : 'str'})\n",
    "new_data = new_data.astype({'GDP' : 'float'})\n",
    "\n",
    "#sort_new_data = new_data.sort_values('GDP', ascending = True)\n",
    "#sort_new_data = resort_new_data.sort_values('GDP', ascending = True)\n",
    "\n",
    "display(new_data)\n",
    "\n",
    "sns.pointplot(data = new_data, x = 'Year', y = 'GDP', hue = 'Country', ax = ax, palette = 'nipy_spectral')\n",
    "\n",
    "ax.set_xlabel(ax.get_xlabel(), labelpad= 15)\n",
    "ax.set_ylabel('Average GDP by Country 2018-2022', labelpad= 30)\n",
    "ax.xaxis.label.set_fontsize(16)\n",
    "ax.yaxis.label.set_fontsize(16)\n",
    "pyplot.title('Title Here', fontsize = 20)\n",
    "pyplot.show()"
   ]
  }
 ],
 "metadata": {
  "kernelspec": {
   "display_name": "Python 3",
   "language": "python",
   "name": "python3"
  },
  "language_info": {
   "codemirror_mode": {
    "name": "ipython",
    "version": 3
   },
   "file_extension": ".py",
   "mimetype": "text/x-python",
   "name": "python",
   "nbconvert_exporter": "python",
   "pygments_lexer": "ipython3",
   "version": "3.11.4"
  }
 },
 "nbformat": 4,
 "nbformat_minor": 2
}
