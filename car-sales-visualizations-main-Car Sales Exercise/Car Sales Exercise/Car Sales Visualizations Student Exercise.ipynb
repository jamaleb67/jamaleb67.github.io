{
 "cells": [
  {
   "cell_type": "markdown",
   "id": "3229349c-0476-4452-859d-fa91d4d2285a",
   "metadata": {},
   "source": [
    "<div align = 'left'><font color = 'black'><b><h1> Car Sales Visualizations</h></b></font></div>\n",
    "\n",
    "Authored and Presented by: Sarah Casella Jones, Ph.D., BCBA-D, LBA; email: sarah.c.jones@niu.odni.gov"
   ]
  },
  {
   "cell_type": "markdown",
   "id": "c7be49c2-aeb7-4c2f-ac9f-b12f60a2b9ba",
   "metadata": {},
   "source": [
    "All \"Car Sales\" data were downloaded from www.kaggle.com, ... \"the place to do data science projects.\"\n",
    "\n",
    "The dataset contains Sales data of an Automobile company.\n",
    "\n",
    "The following rubric us used to assess the data columns:\n",
    "\n",
    "<img src=\"./pictures/car_sales_1.png\" width=75%>\n",
    "<img src=\"./pictures/car_sales_2.png\" width=75%>\n",
    "\n",
    "\n",
    "## Questions to answer:\n",
    "\n",
    "* What was the total number of car orders placed over time?\n",
    "* What was the price increase of cars over time?\n",
    "* What sales trends were observed?\n",
    "* What was the customer retention rate over time?\n",
    "* Any concerns with the car sales?\n",
    "\n",
    "Complete the **\"[fill_in_blank]\"** lines with the visuzalialization that should be used for these specific graphs."
   ]
  },
  {
   "cell_type": "markdown",
   "id": "eb7cba68-70eb-48cc-aa52-cd11fc871ef2",
   "metadata": {},
   "source": [
    "## Table of Contents\n",
    "<span id = 'TableOfContents'></span>\n",
    "* <a href = '# Import Packages & Create a Directory'> 1. Import Packages & Create Directory</a>\n",
    "* <a href = '# Upload Data'> 2. Upload Data</a>\n",
    "* <a href = '# EDA'> 3. Exploratory Data Analysis</a>\n",
    "* <a href = '# univariate'> 4. Univariate Analysis</a>\n",
    "* <a href = '# bivariate'> 5. Bivariate Analysis</a>\n",
    "* <a href = '# timelines'> 6. Yearly, Quarterly, Monthly, Weekly</a>\n",
    "* <a href = '# multivariate'> 7. Multivariate</a>\n",
    "* <a href = '# Key Insights'> 8. Key Insights from Analysis</a>"
   ]
  },
  {
   "cell_type": "markdown",
   "id": "fa1b1506-8651-4105-81dd-8d23554648d5",
   "metadata": {},
   "source": [
    "### 1. Import Packages & Create Directory"
   ]
  },
  {
   "cell_type": "code",
   "execution_count": null,
   "id": "9d2c578a-9f3c-4068-82b9-2db15f682409",
   "metadata": {},
   "outputs": [],
   "source": [
    "#Import Packages first\n",
    "from IPython.display import display, HTML\n",
    "display(HTML(\"<style>.container { width:100% !important; }</style>\"))\n",
    "import csv\n",
    "import os\n",
    "import glob\n",
    "import pandas as pd\n",
    "pd.options.display.max_columns = None\n",
    "pd.options.display.max_rows = None\n",
    "import numpy as np\n",
    "import datetime as dt\n",
    "import seaborn as sns\n",
    "import matplotlib.pyplot as plt\n",
    "%matplotlib inline\n",
    "import plotly.graph_objects as go\n",
    "import plotly.express as px\n",
    "\n",
    "from warnings import filterwarnings\n",
    "filterwarnings('ignore')\n",
    "print('Import Complete')\n",
    "\n",
    "#Declare a timeframe for graphics\n",
    "time = dt.datetime.now().strftime(format = '%Y-%m-%d')\n",
    "\n",
    "#Create Directory:\n",
    "mydir = 'Car Sales'\n",
    "if not os.path.isdir(mydir):\n",
    "    os.mkdir(mydir)\n",
    "print('Directory Creation Complete')"
   ]
  },
  {
   "cell_type": "markdown",
   "id": "1a768fc9-424e-4b38-9d34-e6ceffb81bd3",
   "metadata": {},
   "source": [
    "### 2. Upload Data"
   ]
  },
  {
   "cell_type": "code",
   "execution_count": null,
   "id": "8f10462c-228d-4c08-b409-ba7fbd67e42f",
   "metadata": {},
   "outputs": [],
   "source": [
    "#Upload the individual documents into one data frame\n",
    "file_directory = 'Car Sales Data/'\n",
    "all_files = glob.glob(file_directory + \"/*.csv\")\n",
    "\n",
    "\n",
    "file_list = []\n",
    "\n",
    "for filename in all_files:\n",
    "    df1 = pd.read_csv(filename, parse_dates = ['ORDERDATE'], dayfirst=True, index_col=None, header=0)\n",
    "    file_list.append(df1)\n",
    "display('Number of files: ', len(file_list))\n",
    "df = pd.concat(file_list, axis=0, ignore_index=True)\n",
    "display('Total number of rows: ', df.shape[0])\n",
    "display(df[-3:])\n",
    "print('Complete Data Upload')"
   ]
  },
  {
   "cell_type": "code",
   "execution_count": null,
   "id": "b13503d5-f9a7-4ec3-ae01-e4eb1e1edee2",
   "metadata": {},
   "outputs": [],
   "source": [
    "#Copy the dataframe into a new one so the original data is preserved.\n",
    "cars_df = df.copy()"
   ]
  },
  {
   "cell_type": "code",
   "execution_count": null,
   "id": "f918bbfc-13e3-4033-8deb-668ef4ac8fbb",
   "metadata": {
    "tags": []
   },
   "outputs": [],
   "source": [
    "print('*'*30)\n",
    "print('The number of rows:\\n ',cars_df.shape[0])\n",
    "print('*'*30)\n",
    "print('The number of columns: \\n', cars_df.shape[1])\n",
    "print('*'*30)\n",
    "print('The types of data in the data frame:\\n ', cars_df.dtypes)\n",
    "print('*'*30)\n",
    "print('The description of the data: \\n', cars_df.describe())\n",
    "print('*'*30)\n",
    "print('The description of the data: \\n ', cars_df.columns)\n",
    "print('*'*30)\n",
    "print('The first three rows look like this:\\n ', cars_df.head(3))\n",
    "print('*'*30)"
   ]
  },
  {
   "cell_type": "code",
   "execution_count": null,
   "id": "62c75774-48e2-4c54-81b9-3af2ab9dfbb8",
   "metadata": {},
   "outputs": [],
   "source": [
    "#Let's drop days since last order & create a new feature having time difference as : DateLast order - 06-01-2020\n",
    "\n",
    "# Create a new feature 'DAYS_SINCE_LASTORDER' based on the time difference\n",
    "# Drop the 'DAYS_SINCE_LASTORDER' column\n",
    "cars_df = cars_df.drop('DAYS_SINCE_LASTORDER', axis=1)\n",
    "\n",
    "## Create a new feature 'DAYS_SINCE_LASTORDER' based on the time difference\n",
    "# cars_df['DAYS_SINCE_LASTORDER'] = \n",
    "temp_date = pd.datetime(2020, 6, 1)  # Define the specific date\n",
    "# temp_date\n",
    "cars_df['DAYS_SINCE_LASTORDER'] = (temp_date-  cars_df['ORDERDATE']).dt.days"
   ]
  },
  {
   "cell_type": "markdown",
   "id": "cebfd30a-51a4-423f-8ad0-e0ac7c45d2e7",
   "metadata": {},
   "source": [
    "**Numerical features**\n",
    "\n",
    "* Since ORDERNUMBER is not relevant for the EDA here, we will drop for Exploratory data analysis & visualizations"
   ]
  },
  {
   "cell_type": "code",
   "execution_count": null,
   "id": "f0899724-3f8e-4f4b-8597-d31d6ffba705",
   "metadata": {},
   "outputs": [],
   "source": [
    "cars_df_num = cars_df.select_dtypes(include=['float64', 'int64']).drop(columns=['ORDERNUMBER'])\n",
    "print(cars_df_num.columns, len(list(cars_df_num.columns.values)))"
   ]
  },
  {
   "cell_type": "markdown",
   "id": "8454d3f2-2e46-4f47-a7bd-2807d9025014",
   "metadata": {},
   "source": [
    "**Categorical Features** \n",
    "\n",
    "* We do not need below columns for analysis hence we will exlude from plots: 'PHONE','ADDRESSLINE1', 'CONTACTLASTNAME','CONTACTFIRSTNAME'"
   ]
  },
  {
   "cell_type": "code",
   "execution_count": null,
   "id": "48df13ae-21e7-4c5b-95c6-cd6c6c76aef2",
   "metadata": {},
   "outputs": [],
   "source": [
    "cars_df_cat = cars_df.select_dtypes(include = ['object']).drop(columns=['PHONE','ADDRESSLINE1', 'CONTACTLASTNAME','CONTACTFIRSTNAME'])\n",
    "print(cars_df_cat.columns, len(list(cars_df_cat.columns.values)))"
   ]
  },
  {
   "cell_type": "markdown",
   "id": "ed759cc2-4791-45a5-9633-7f5018711fc7",
   "metadata": {},
   "source": [
    "### **Display Summary**"
   ]
  },
  {
   "cell_type": "code",
   "execution_count": null,
   "id": "9d6e2e01-4b50-419d-9703-62aa67ec1618",
   "metadata": {},
   "outputs": [],
   "source": [
    "#Descriptive Summary of the dataset - Numeric features\n",
    "\n",
    "display(round(cars_df_num.describe(),2).T)"
   ]
  },
  {
   "cell_type": "code",
   "execution_count": null,
   "id": "4d219053-f980-45ac-8950-679dbc6a57b0",
   "metadata": {},
   "outputs": [],
   "source": [
    "#Descriptive Summary of the dataset - Categorical features\n",
    "\n",
    "cars_df_cat.select_dtypes(include = ['object'])[:-5].describe().T"
   ]
  },
  {
   "cell_type": "markdown",
   "id": "6021ac9b-9a36-4911-8e39-02f3de8d9e00",
   "metadata": {},
   "source": [
    "What insights can you infer from these few dataframes?"
   ]
  },
  {
   "cell_type": "markdown",
   "id": "0e905f1c-ddaf-4ab8-bbbf-c950e6530277",
   "metadata": {},
   "source": [
    "### **Missing Values**"
   ]
  },
  {
   "cell_type": "code",
   "execution_count": null,
   "id": "583219ef-fcfa-45dc-9443-659f2b89a190",
   "metadata": {},
   "outputs": [],
   "source": [
    "#Missing values\n",
    "cars_df.isnull().sum()"
   ]
  },
  {
   "cell_type": "markdown",
   "id": "b961891b-7683-4088-b02b-f758a947fe8e",
   "metadata": {},
   "source": [
    "* No missing values found\n",
    "\n",
    "### **Duplicate Values**"
   ]
  },
  {
   "cell_type": "code",
   "execution_count": null,
   "id": "b8032d81-6b12-4be9-89ab-ed58c38198df",
   "metadata": {},
   "outputs": [],
   "source": [
    "#Checking duplicate values\n",
    "cars_df.duplicated().sum()"
   ]
  },
  {
   "cell_type": "markdown",
   "id": "d49a5879-af15-4200-b161-d53ad66b18e3",
   "metadata": {},
   "source": [
    "* No Duplicate values found\n",
    "\n",
    "### **Univariate Analysis**\n",
    "\n",
    "What type of EDA visualizations would be best to have to analyze the `STATUS`, `PRODUCTLINE`, and `DEALSIZE`?"
   ]
  },
  {
   "cell_type": "code",
   "execution_count": null,
   "id": "a3f84c72-b611-49ce-8c23-19848f9209ff",
   "metadata": {
    "tags": []
   },
   "outputs": [],
   "source": [
    "cat_columns = cars_df[['STATUS', 'PRODUCTLINE', 'DEALSIZE']]\n",
    "def univariateAnalysis_category(cols):\n",
    "    print(\"Distribution of\", cols)\n",
    "    print(\"_\"* 60)\n",
    "    colors = ['#79a5db', '#e0a580', '#6fab90', '#896ca8', '#ADD8E6']\n",
    "    value_counts = cat_columns[cols].value_counts()\n",
    "    # Count plot - Which graphic would you use to obtain a count plot?\n",
    "    fig = px.[fill_in_blank](value_counts,x=value_counts.index, y=value_counts.values, title=f'Distribution of {cols}',\n",
    "        labels={'x': 'Categories', 'y': 'Count'},color_discrete_sequence=[colors])\n",
    "    fig.update_layout(width=700)\n",
    "    fig.update_layout(plot_bgcolor='#ffffff', paper_bgcolor='#ffffff')\n",
    "    fig.show()\n",
    "    # Donut chart - Which graphic would you use to obtain a percentage plot?\n",
    "    percentage = (value_counts / value_counts.sum()) * 100\n",
    "    fig = px.[fill_in_blank]( values=percentage, names=value_counts.index,\n",
    "        labels={'names': 'Categories', 'values': 'Percentage'}, hole=0.5,color_discrete_sequence=colors)\n",
    "    fig.add_annotation( x=0.5, y=0.5, align=\"center\", xref=\"paper\",\n",
    "        yref=\"paper\", showarrow=False, font_size=15, text=f'{cols}')\n",
    "    fig.update_layout(legend=dict(x=0.9, y=0.5))\n",
    "    fig.update_layout(width=700)\n",
    "    fig.show()\n",
    "    print(\"       \")\n",
    "for x in cat_columns:\n",
    "    univariateAnalysis_category(x)"
   ]
  },
  {
   "cell_type": "markdown",
   "id": "58ffa218-e864-415d-984b-8a87821b6cc1",
   "metadata": {},
   "source": [
    "This cells displays several visualzations. which ones are shown and what do they say about the questions above? What are\n",
    "these visualizations explaining and why are they useful?"
   ]
  },
  {
   "cell_type": "code",
   "execution_count": null,
   "id": "fe9f45e4-22a1-4c51-a622-957cf043d3a1",
   "metadata": {
    "tags": []
   },
   "outputs": [],
   "source": [
    "def univariateAnalysis_numeric(column, nbins):\n",
    "    print(\"Description of \" + column)\n",
    "    print(\"*\" *30)\n",
    "    print(df[column].describe(), end=' ')\n",
    "    fig, axes = plt.subplots(1, 2, figsize=(15, 6))\n",
    "    # Plot histogram - Which graphic would you use to obtain a bar plots in different bins? \n",
    "    print(\"*\" *30)\n",
    "    sns.[fill_in_blank](df[column], bins=nbins, kde=True, ax=axes[0])\n",
    "    axes[0].set_title(\"Histogram of \" + column)\n",
    "    # Plot box plot - Which graphic would you use to obtain a plot with tails on each end?\n",
    "    print(\"*\" *30)\n",
    "    sns.[fill_in_blank](x=df[column], ax=axes[1])\n",
    "    axes[1].set_title(\"Boxlot of \" + column )\n",
    "    plt.show()\n",
    "for x in cars_df_num:\n",
    "    univariateAnalysis_numeric(x,20)"
   ]
  },
  {
   "cell_type": "code",
   "execution_count": null,
   "id": "1c425ecc-9508-40bf-9367-f2722bd74427",
   "metadata": {
    "tags": []
   },
   "outputs": [],
   "source": [
    "#Top 10 Counteries\n",
    "country_counts = cars_df['COUNTRY'].value_counts()[:10]\n",
    "fig = go.Figure(go.Funnel(y=country_counts.index,\n",
    "    x=country_counts.values, textinfo='value', marker={'color': px.colors.sequential.Blues_r}))\n",
    "fig.update_layout(title_text='Top 10 Country Distribution',  template='plotly_white')\n",
    "fig.show()"
   ]
  },
  {
   "cell_type": "code",
   "execution_count": null,
   "id": "2e4e1614-cfd7-4bfa-8bcc-57bda59d72ba",
   "metadata": {
    "tags": []
   },
   "outputs": [],
   "source": [
    "#Top 10 Cities\n",
    "city_counts = cars_df['CITY'].value_counts()[:10]\n",
    "fig = go.Figure(go.Funnel(    y=city_counts.index,\n",
    "    x=city_counts.values,      textinfo='value',\n",
    "    marker={'color': px.colors.sequential.Blues_r} ))\n",
    "fig.update_layout(title_text='Top 10 City Distribution', template='plotly_white')\n",
    "fig.show()"
   ]
  },
  {
   "cell_type": "code",
   "execution_count": null,
   "id": "2851c21e-987e-43ef-8985-7c5889e56bfb",
   "metadata": {
    "tags": []
   },
   "outputs": [],
   "source": [
    "#Top 10 Customer\n",
    "top10customer = cars_df.sort_values(by=\"SALES\", ascending = False).head(5)\n",
    "top10customer = cars_df['CUSTOMERNAME'].value_counts()[:10]\n",
    "fig = go.Figure(go.Funnel(  y=top10customer.index, x=top10customer.values,\n",
    "    textinfo='value', marker={'color': px.colors.sequential.Blues_r}))\n",
    "fig.update_layout(title_text='Top 10 Customer Distribution', template='plotly_white')\n",
    "fig.show()"
   ]
  },
  {
   "cell_type": "markdown",
   "id": "ac5c41dc-0949-4e69-bc67-8e00c02c3ed9",
   "metadata": {},
   "source": [
    "### **Bivariate Analysis**\n",
    "\n",
    "Lets investigate these data with Seaborn. What Seaborn functions will use scatter plots and histograms?"
   ]
  },
  {
   "cell_type": "code",
   "execution_count": null,
   "id": "39cebdc7-a61c-4fe4-9336-12728ebbae87",
   "metadata": {
    "tags": []
   },
   "outputs": [],
   "source": [
    "sns.[fill_in_blank](data=cars_df, corner = True )"
   ]
  },
  {
   "cell_type": "markdown",
   "id": "e6a468e2-1ff6-4342-8e87-04fa46fcfec3",
   "metadata": {},
   "source": [
    "Which graphic can be created to see if there are feature correlations are seen in `QUANTITYORDERED`?"
   ]
  },
  {
   "cell_type": "code",
   "execution_count": null,
   "id": "889e0f64-c107-4472-9a18-64e2cd953820",
   "metadata": {},
   "outputs": [],
   "source": [
    "corr = cars_df.corr(method='pearson')\n",
    "mask = np.triu(np.ones_like(corr))\n",
    "fig = plt.subplots(figsize=(8, 5))\n",
    "sns.[fill_in_blank](corr, annot=True,fmt='.2f',mask=mask, cbar=True, linewidth=0.5)\n",
    "plt.show()"
   ]
  },
  {
   "cell_type": "markdown",
   "id": "ed75a08e-29fe-4191-a642-f4033fb690d0",
   "metadata": {},
   "source": [
    "What are the correlations, if any?\n",
    "\n",
    "What other graphic could be used to display `SALES` Distribution in `Deal Size`? "
   ]
  },
  {
   "cell_type": "code",
   "execution_count": null,
   "id": "80f0c8e4-078e-4915-bc6a-42b4d17fdc6f",
   "metadata": {},
   "outputs": [],
   "source": [
    "#Sales Distribution in Deal Size \n",
    "plt.figure(1 , figsize = (10,5))\n",
    "sns.[fill_in_blank](x = 'DEALSIZE' , y = 'SALES' , data = cars_df, palette='rocket')\n",
    "plt.title('Sales Distribution in Deal Size')\n",
    "plt.xlabel(\"Deal Size\", fontsize=12)\n",
    "plt.ylabel(\"Sales\", fontsize=12)\n",
    "plt.xticks(rotation = 0)\n",
    "plt.show()\n"
   ]
  },
  {
   "cell_type": "markdown",
   "id": "25d3035a-01dc-49f0-a870-c3e644e668fe",
   "metadata": {},
   "source": [
    "What other graphic could be used to display `PRODUCTLINE`in `SALES` Distribition? "
   ]
  },
  {
   "cell_type": "code",
   "execution_count": null,
   "id": "c7fe5770-a779-4fca-84d3-78cb8e04c37f",
   "metadata": {
    "scrolled": true
   },
   "outputs": [],
   "source": [
    "#Sales Distribution in Product Line\n",
    "plt.figure(1 , figsize = (15,5))\n",
    "sns.[fill_in_blank](x = 'PRODUCTLINE' , y = 'SALES' , data = cars_df, palette='rocket')\n",
    "plt.title('Sales Distribution in Product Line',fontsize=12)\n",
    "plt.xlabel(\"Product Line\", fontsize=12)\n",
    "plt.ylabel(\"Sales\", fontsize=12)\n",
    "plt.show()"
   ]
  },
  {
   "cell_type": "markdown",
   "id": "2a3be8f4",
   "metadata": {},
   "source": [
    "### Yearly, Quarterly, Monthly, weekly Sales Trend¶"
   ]
  },
  {
   "cell_type": "code",
   "execution_count": null,
   "id": "ca27a54d",
   "metadata": {},
   "outputs": [],
   "source": [
    "# Extract year, month, week, and quarter from ORDERDATE\n",
    "cars_df['Year'] = cars_df['ORDERDATE'].dt.year\n",
    "cars_df['Month'] = cars_df['ORDERDATE'].dt.month\n",
    "cars_df['Week'] = cars_df['ORDERDATE'].dt.isocalendar().week\n",
    "cars_df['Quarter'] = cars_df['ORDERDATE'].dt.quarter\n",
    "# cars_df['Year'][:3]"
   ]
  },
  {
   "cell_type": "markdown",
   "id": "1ab86919-7162-4343-ae0a-9089f758ce01",
   "metadata": {},
   "source": [
    "### What plots would be used to show trends overtime? \n",
    "\n",
    "Using the `ORDEREDATE`, 'Quarter', `Month`, and `Week` columns, create a trend line. What are the graphs displaying?"
   ]
  },
  {
   "cell_type": "code",
   "execution_count": null,
   "id": "7c5c1198-bc2d-439d-b862-6526de9c84ae",
   "metadata": {},
   "outputs": [],
   "source": [
    "def create_trend_plots(df, x_data, x_label, y_data, y_label, chart_title):\n",
    "    sns.set(style=\"whitegrid\", rc={\"figure.figsize\": (20, 5)})\n",
    "    sns.[fill_in_blank](data=cars_df, x=x_data, y=y_data, ci=None, hue=\"Year\",palette=sns.color_palette(\"Set1\", len(cars_df['Year'].unique())))\n",
    "    plt.title(\"Sales Trend by \" + chart_title)\n",
    "    plt.xlabel(x_label, fontsize=10)\n",
    "    plt.ylabel(y_label, fontsize=10)\n",
    "    plt.legend(title=\"Year\", loc='best')\n",
    "    plt.show()\n"
   ]
  },
  {
   "cell_type": "code",
   "execution_count": null,
   "id": "b2f80d5c-fee4-4df7-a2da-ebe697ed26be",
   "metadata": {
    "tags": []
   },
   "outputs": [],
   "source": [
    "#Execute the above create_trend_plots() from above.\n",
    "create_trend_plots(cars_df,\"ORDERDATE\",\"Year\", \"SALES\", \"SALES\", \"Year\" )\n",
    "print('')\n",
    "create_trend_plots(cars_df,\"Quarter\",\"Quarter\", \"SALES\", \"SALES\", \"Quarter\" )\n",
    "print('')\n",
    "create_trend_plots(cars_df,\"Month\",\"Month\", \"SALES\", \"SALES\", \"Month\" )\n",
    "print('')\n",
    "create_trend_plots(cars_df,\"Week\",\"Week\", \"SALES\", \"SALES\", \"Week\" )"
   ]
  },
  {
   "cell_type": "markdown",
   "id": "c4ba3292",
   "metadata": {},
   "source": [
    "### Multivariate Analysis"
   ]
  },
  {
   "cell_type": "code",
   "execution_count": null,
   "id": "94fce85a",
   "metadata": {},
   "outputs": [],
   "source": [
    "# Comparison between Sales, Product Line along with Dealsize as Hue\n",
    "sns.set(style=\"white\", rc={\"figure.figsize\": (15, 5)})\n",
    "cars_df[\"SALES (K)\"] = cars_df[\"SALES\"] / 1000\n",
    "sns.[fill_in_blank](data=cars_df, x=\"PRODUCTLINE\", y=\"SALES (K)\", hue=\"DEALSIZE\", palette=\"Set2\", ci=None)\n",
    "plt.ylabel(\"SALES (K)\", fontsize=10)\n",
    "plt.xlabel(\"Product Line\", fontsize=10)\n",
    "for p in plt.gca().patches:\n",
    "    plt.gca().annotate(f'{p.get_height():.1f}K', (p.get_x() + p.get_width() / 2., p.get_height()), ha='center', va='bottom', fontsize=8)\n",
    "plt.legend(title=\"Deal Size\", fontsize=8, loc=\"upper left\", bbox_to_anchor=(1, 1))\n",
    "plt.show()"
   ]
  },
  {
   "cell_type": "code",
   "execution_count": null,
   "id": "704a2bad-7f2a-4176-8504-76bdf4986453",
   "metadata": {},
   "outputs": [],
   "source": [
    "def multivariate_analysis_visualizations(df, x_data, x_label, y_data, y_label, hue, legend_title):\n",
    "    '''\n",
    "    This user-defined function creates barplot visualization that provides insight into the product line compared to quantity ordered, price of\n",
    "    each vehicle, and MSRP based on deal size.\n",
    "    '''\n",
    "    sns.set(style=\"white\", rc={\"figure.figsize\": (15, 5)})\n",
    "    sns.[fill_in_blank](data=df, x=x_data, y=y_data, hue=hue, palette=\"viridis\", ci=None)\n",
    "    plt.ylabel(y_label, fontsize=10)\n",
    "    plt.xlabel(x_label, fontsize=10)\n",
    "    for p in plt.gca().patches:\n",
    "        plt.gca().annotate(f'{p.get_height():.1f}', (p.get_x() + p.get_width() / 2., p.get_height()), ha='center', va='bottom',fontsize=8)\n",
    "    plt.legend(title=legend_title, fontsize=10, loc=\"upper left\", bbox_to_anchor=(1, 1))\n",
    "    plt.show()"
   ]
  },
  {
   "cell_type": "code",
   "execution_count": null,
   "id": "43a992c5-3c60-4108-9089-b841c139d774",
   "metadata": {
    "tags": []
   },
   "outputs": [],
   "source": [
    "#Comparision between Quantity Ordered, Product Line along with Dealsize as Hue\n",
    "multivariate_analysis_visualizations(cars_df, \"PRODUCTLINE\", \"Product Line\", \"QUANTITYORDERED\", \"QUANTITY ORDERED\", \"DEALSIZE\",\"Deal Size\")\n",
    "print('\\n')\n",
    "#Comparision between Product Line, Product Line along with Dealsize as Hue\n",
    "multivariate_analysis_visualizations(cars_df, \"PRODUCTLINE\", \"Product Line\", \"PRICEEACH\", \"Price Each\", \"DEALSIZE\",\"Deal Size\")\n",
    "print('\\n')\n",
    "#Comparision between MSRP, Product Line along with Dealsize as Hue\n",
    "multivariate_analysis_visualizations(cars_df, \"PRODUCTLINE\", \"Product Line\", \"MSRP\", \"MSRP\", \"DEALSIZE\",\"Deal Size\")\n",
    "print('\\n')"
   ]
  },
  {
   "cell_type": "code",
   "execution_count": null,
   "id": "df84227f-c445-48ac-a401-28e15219c7a8",
   "metadata": {},
   "outputs": [],
   "source": [
    "def multivariate_analysis_visualization_sales(df, x_data, x_label, y_data, y_label):\n",
    "    '''\n",
    "    This user-defined function creates barplot visualization that provides insight into the sales(in thousands) of dollars in U.S. currency\n",
    "    based on both product line and deal size.\n",
    "    '''\n",
    "    sns.set(style=\"white\", rc={\"figure.figsize\": (15, 5)})\n",
    "    sns.[fill_in_blank](data=df, x=x_data, y=y_data, hue=\"Year\", palette = 'viridis',  ci=None)\n",
    "    plt.xlabel(x_label, fontsize=10)\n",
    "    plt.ylabel(y_label, fontsize=10)\n",
    "    plt.title(\"Yearly Sales\", fontsize=10)\n",
    "    for p in plt.gca().patches:\n",
    "        plt.gca().annotate(f'{p.get_height():.1f}K', (p.get_x() + p.get_width() / 2., p.get_height()), ha='center', va='bottom',fontsize=8)\n",
    "    plt.legend(title=\"Year\",fontsize=10,  loc=\"upper left\", bbox_to_anchor=(1, 1))\n",
    "    plt.show()"
   ]
  },
  {
   "cell_type": "code",
   "execution_count": null,
   "id": "28ef479f-b8b6-4b8f-aacc-360fa66d27f9",
   "metadata": {
    "tags": []
   },
   "outputs": [],
   "source": [
    "# Comparison between Product line, Sales (K), along with Year as the hue\n",
    "multivariate_analysis_visualization_sales(cars_df,\"PRODUCTLINE\", \"Product Line\", \"SALES (K)\", \"Sales(K)\")\n",
    "print('\\n')\n",
    "# Comparison between Deal Size, Sales (K), along with Year as the hue\n",
    "multivariate_analysis_visualization_sales(cars_df,\"DEALSIZE\", \"Deal Siz\", \"SALES (K)\", \"Sales(K)\")\n",
    "print('\\n')"
   ]
  },
  {
   "cell_type": "markdown",
   "id": "b0273e09-15cd-49a8-8ebc-6b8cd21c0a0c",
   "metadata": {},
   "source": [
    "### Trend of Price, MSRP and Selling Price Difference\n",
    "Selling Price Difference is calculated as the difference between manufactured suggested price and selling price. \n",
    "Which visualization would be good to analyze these data. What does this graphic display?"
   ]
  },
  {
   "cell_type": "code",
   "execution_count": null,
   "id": "f64d5735",
   "metadata": {},
   "outputs": [],
   "source": [
    "#Trend of Price, MSRP and Selling Price Difference\n",
    "# Selling Price Difference is calculated as the difference between manufactured suggested price and selling price. \n",
    "# Which visualization would be good to analyze these data. What does this graphic display?\n",
    "cars_df[\"SELLING_PRICE_DIFF\"] =  cars_df[\"PRICEEACH\"]-cars_df[\"MSRP\"]\n",
    "sns.set(style=\"whitegrid\", rc={\"figure.figsize\": (20, 5)})\n",
    "sns.[fill_in_blank](data=cars_df, x=\"ORDERDATE\", y=\"PRICEEACH\", ci=None, label=\"Price Each\", color='orange')\n",
    "sns.[fill_in_blank](data=cars_df, x=\"ORDERDATE\", y=\"MSRP\", ci=None, label=\"MSRP\", color='black')\n",
    "plt.fill_between(cars_df[\"ORDERDATE\"], cars_df[\"SELLING_PRICE_DIFF\"], where=(cars_df[\"SELLING_PRICE_DIFF\"] < 0), color=\"red\", alpha=0.7, label=\"Lower\")\n",
    "plt.fill_between(cars_df[\"ORDERDATE\"], cars_df[\"SELLING_PRICE_DIFF\"], where=(cars_df[\"SELLING_PRICE_DIFF\"] >= 0), color=\"green\", alpha=0.7, label=\"Higher\")\n",
    "plt.title(\"Trends of Price Each, MSRP, and Selling Price Difference\")\n",
    "plt.xlabel(\"Year\", fontsize=10)\n",
    "plt.ylabel(\"Values\", fontsize=10)\n",
    "plt.legend(loc='best')\n",
    "plt.show()"
   ]
  },
  {
   "cell_type": "markdown",
   "id": "3e3fcc96",
   "metadata": {},
   "source": [
    "### **Key Insights from Analysis** \n",
    "\n",
    "**Sales Overview:**\n",
    "\n",
    "* \n",
    "* \n",
    "* \n",
    "* \n",
    "* \n",
    "\n",
    "**Product and Revenue:**\n",
    "\n",
    "* \n",
    "* \n",
    "* \n",
    "\n",
    "**Sales Trends:**\n",
    "\n",
    "* \n",
    "* \n",
    "\n",
    "**Concern**\n",
    "\n",
    "* \n",
    "\n",
    "**Transaction Characteristics:**\n",
    "\n",
    "* \n",
    "\n",
    "**Key Customers:**\n",
    "\n",
    "* \n",
    "\n",
    "**Customer Retention:**\n",
    "\n",
    "* "
   ]
  }
 ],
 "metadata": {
  "kernelspec": {
   "display_name": "Python 3 (ipykernel)",
   "language": "python",
   "name": "python3"
  },
  "language_info": {
   "codemirror_mode": {
    "name": "ipython",
    "version": 3
   },
   "file_extension": ".py",
   "mimetype": "text/x-python",
   "name": "python",
   "nbconvert_exporter": "python",
   "pygments_lexer": "ipython3",
   "version": "3.7.11"
  }
 },
 "nbformat": 4,
 "nbformat_minor": 5
}
