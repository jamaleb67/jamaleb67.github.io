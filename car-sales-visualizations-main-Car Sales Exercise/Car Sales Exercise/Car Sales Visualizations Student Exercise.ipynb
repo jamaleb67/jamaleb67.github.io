{
 "cells": [
  {
   "cell_type": "markdown",
   "id": "3229349c-0476-4452-859d-fa91d4d2285a",
   "metadata": {},
   "source": [
    "<div align = 'left'><font color = 'black'><b><h1> Car Sales Visualizations</h></b></font></div>\n",
    "\n",
    "Authored and Presented by: Sarah Casella Jones, Ph.D., BCBA-D, LBA; email: sarah.c.jones@niu.odni.gov"
   ]
  },
  {
   "cell_type": "markdown",
   "id": "c7be49c2-aeb7-4c2f-ac9f-b12f60a2b9ba",
   "metadata": {},
   "source": [
    "All \"Car Sales\" data were downloaded from www.kaggle.com, ... \"the place to do data science projects.\"\n",
    "\n",
    "The dataset contains Sales data of an Automobile company.\n",
    "\n",
    "The following rubric us used to assess the data columns:\n",
    "\n",
    "<img src=\"./pictures/car_sales_1.png\" width=75%>\n",
    "<img src=\"./pictures/car_sales_2.png\" width=75%>\n",
    "\n",
    "\n",
    "## Questions to answer:\n",
    "\n",
    "* What was the total number of car orders placed over time?\n",
    "* What was the price increase of cars over time?\n",
    "* What sales trends were observed?\n",
    "* What was the customer retention rate over time?\n",
    "* Any concerns with the car sales?\n",
    "\n",
    "Complete the **\"[fill_in_blank]\"** lines with the visuzalialization that should be used for these specific graphs."
   ]
  },
  {
   "cell_type": "markdown",
   "id": "eb7cba68-70eb-48cc-aa52-cd11fc871ef2",
   "metadata": {},
   "source": [
    "## Table of Contents\n",
    "<span id = 'TableOfContents'></span>\n",
    "* <a href = '# Import Packages & Create a Directory'> 1. Import Packages & Create Directory</a>\n",
    "* <a href = '# Upload Data'> 2. Upload Data</a>\n",
    "* <a href = '# EDA'> 3. Exploratory Data Analysis</a>\n",
    "* <a href = '# univariate'> 4. Univariate Analysis</a>\n",
    "* <a href = '# bivariate'> 5. Bivariate Analysis</a>\n",
    "* <a href = '# timelines'> 6. Yearly, Quarterly, Monthly, Weekly</a>\n",
    "* <a href = '# multivariate'> 7. Multivariate</a>\n",
    "* <a href = '# Key Insights'> 8. Key Insights from Analysis</a>"
   ]
  },
  {
   "cell_type": "markdown",
   "id": "fa1b1506-8651-4105-81dd-8d23554648d5",
   "metadata": {},
   "source": [
    "### 1. Import Packages & Create Directory"
   ]
  },
  {
   "cell_type": "code",
   "execution_count": 22,
   "id": "9d2c578a-9f3c-4068-82b9-2db15f682409",
   "metadata": {},
   "outputs": [
    {
     "data": {
      "text/html": [
       "<style>.container { width:100% !important; }</style>"
      ],
      "text/plain": [
       "<IPython.core.display.HTML object>"
      ]
     },
     "metadata": {},
     "output_type": "display_data"
    },
    {
     "name": "stdout",
     "output_type": "stream",
     "text": [
      "Import Complete\n",
      "Directory Creation Complete\n"
     ]
    }
   ],
   "source": [
    "#Import Packages first\n",
    "from IPython.display import display, HTML\n",
    "display(HTML(\"<style>.container { width:100% !important; }</style>\"))\n",
    "import csv\n",
    "import os\n",
    "import glob\n",
    "import pandas as pd\n",
    "pd.options.display.max_columns = None\n",
    "pd.options.display.max_rows = None\n",
    "import numpy as np\n",
    "import datetime as dt\n",
    "import seaborn as sns\n",
    "import matplotlib.pyplot as plt\n",
    "%matplotlib inline\n",
    "import plotly.graph_objects as go\n",
    "import plotly.express as px\n",
    "\n",
    "from warnings import filterwarnings\n",
    "filterwarnings('ignore')\n",
    "print('Import Complete')\n",
    "\n",
    "#Declare a timeframe for graphics\n",
    "time = dt.datetime.now().strftime(format = '%Y-%m-%d')\n",
    "\n",
    "#Create Directory:\n",
    "mydir = 'Car Sales'\n",
    "if not os.path.isdir(mydir):\n",
    "    os.mkdir(mydir)\n",
    "print('Directory Creation Complete')"
   ]
  },
  {
   "cell_type": "markdown",
   "id": "1a768fc9-424e-4b38-9d34-e6ceffb81bd3",
   "metadata": {},
   "source": [
    "### 2. Upload Data"
   ]
  },
  {
   "cell_type": "code",
   "execution_count": 23,
   "id": "8f10462c-228d-4c08-b409-ba7fbd67e42f",
   "metadata": {},
   "outputs": [
    {
     "data": {
      "text/plain": [
       "'Number of files: '"
      ]
     },
     "metadata": {},
     "output_type": "display_data"
    },
    {
     "data": {
      "text/plain": [
       "1"
      ]
     },
     "metadata": {},
     "output_type": "display_data"
    },
    {
     "data": {
      "text/plain": [
       "'Total number of rows: '"
      ]
     },
     "metadata": {},
     "output_type": "display_data"
    },
    {
     "data": {
      "text/plain": [
       "2747"
      ]
     },
     "metadata": {},
     "output_type": "display_data"
    },
    {
     "data": {
      "text/html": [
       "<div>\n",
       "<style scoped>\n",
       "    .dataframe tbody tr th:only-of-type {\n",
       "        vertical-align: middle;\n",
       "    }\n",
       "\n",
       "    .dataframe tbody tr th {\n",
       "        vertical-align: top;\n",
       "    }\n",
       "\n",
       "    .dataframe thead th {\n",
       "        text-align: right;\n",
       "    }\n",
       "</style>\n",
       "<table border=\"1\" class=\"dataframe\">\n",
       "  <thead>\n",
       "    <tr style=\"text-align: right;\">\n",
       "      <th></th>\n",
       "      <th>ORDERNUMBER</th>\n",
       "      <th>QUANTITYORDERED</th>\n",
       "      <th>PRICEEACH</th>\n",
       "      <th>ORDERLINENUMBER</th>\n",
       "      <th>SALES</th>\n",
       "      <th>ORDERDATE</th>\n",
       "      <th>DAYS_SINCE_LASTORDER</th>\n",
       "      <th>STATUS</th>\n",
       "      <th>PRODUCTLINE</th>\n",
       "      <th>MSRP</th>\n",
       "      <th>PRODUCTCODE</th>\n",
       "      <th>CUSTOMERNAME</th>\n",
       "      <th>PHONE</th>\n",
       "      <th>ADDRESSLINE1</th>\n",
       "      <th>CITY</th>\n",
       "      <th>POSTALCODE</th>\n",
       "      <th>COUNTRY</th>\n",
       "      <th>CONTACTLASTNAME</th>\n",
       "      <th>CONTACTFIRSTNAME</th>\n",
       "      <th>DEALSIZE</th>\n",
       "    </tr>\n",
       "  </thead>\n",
       "  <tbody>\n",
       "    <tr>\n",
       "      <th>2744</th>\n",
       "      <td>10386</td>\n",
       "      <td>43</td>\n",
       "      <td>125.99</td>\n",
       "      <td>4</td>\n",
       "      <td>5417.57</td>\n",
       "      <td>2020-03-01</td>\n",
       "      <td>2836</td>\n",
       "      <td>Resolved</td>\n",
       "      <td>Ships</td>\n",
       "      <td>54</td>\n",
       "      <td>S72_3212</td>\n",
       "      <td>Euro Shopping Channel</td>\n",
       "      <td>(91) 555 94 44</td>\n",
       "      <td>C/ Moralzarzal, 86</td>\n",
       "      <td>Madrid</td>\n",
       "      <td>28034</td>\n",
       "      <td>Spain</td>\n",
       "      <td>Freyre</td>\n",
       "      <td>Diego</td>\n",
       "      <td>Medium</td>\n",
       "    </tr>\n",
       "    <tr>\n",
       "      <th>2745</th>\n",
       "      <td>10397</td>\n",
       "      <td>34</td>\n",
       "      <td>62.24</td>\n",
       "      <td>1</td>\n",
       "      <td>2116.16</td>\n",
       "      <td>2020-03-28</td>\n",
       "      <td>2810</td>\n",
       "      <td>Shipped</td>\n",
       "      <td>Ships</td>\n",
       "      <td>54</td>\n",
       "      <td>S72_3212</td>\n",
       "      <td>Alpha Cognac</td>\n",
       "      <td>61.77.6555</td>\n",
       "      <td>1 rue Alsace-Lorraine</td>\n",
       "      <td>Toulouse</td>\n",
       "      <td>31000</td>\n",
       "      <td>France</td>\n",
       "      <td>Roulet</td>\n",
       "      <td>Annette</td>\n",
       "      <td>Small</td>\n",
       "    </tr>\n",
       "    <tr>\n",
       "      <th>2746</th>\n",
       "      <td>10414</td>\n",
       "      <td>47</td>\n",
       "      <td>65.52</td>\n",
       "      <td>9</td>\n",
       "      <td>3079.44</td>\n",
       "      <td>2020-05-06</td>\n",
       "      <td>2772</td>\n",
       "      <td>On Hold</td>\n",
       "      <td>Ships</td>\n",
       "      <td>54</td>\n",
       "      <td>S72_3212</td>\n",
       "      <td>Gifts4AllAges.com</td>\n",
       "      <td>6175559555</td>\n",
       "      <td>8616 Spinnaker Dr.</td>\n",
       "      <td>Boston</td>\n",
       "      <td>51003</td>\n",
       "      <td>USA</td>\n",
       "      <td>Yoshido</td>\n",
       "      <td>Juri</td>\n",
       "      <td>Medium</td>\n",
       "    </tr>\n",
       "  </tbody>\n",
       "</table>\n",
       "</div>"
      ],
      "text/plain": [
       "      ORDERNUMBER  QUANTITYORDERED  PRICEEACH  ORDERLINENUMBER    SALES  \\\n",
       "2744        10386               43     125.99                4  5417.57   \n",
       "2745        10397               34      62.24                1  2116.16   \n",
       "2746        10414               47      65.52                9  3079.44   \n",
       "\n",
       "      ORDERDATE  DAYS_SINCE_LASTORDER    STATUS PRODUCTLINE  MSRP PRODUCTCODE  \\\n",
       "2744 2020-03-01                  2836  Resolved       Ships    54    S72_3212   \n",
       "2745 2020-03-28                  2810   Shipped       Ships    54    S72_3212   \n",
       "2746 2020-05-06                  2772   On Hold       Ships    54    S72_3212   \n",
       "\n",
       "               CUSTOMERNAME           PHONE           ADDRESSLINE1      CITY  \\\n",
       "2744  Euro Shopping Channel  (91) 555 94 44     C/ Moralzarzal, 86    Madrid   \n",
       "2745           Alpha Cognac      61.77.6555  1 rue Alsace-Lorraine  Toulouse   \n",
       "2746      Gifts4AllAges.com      6175559555     8616 Spinnaker Dr.    Boston   \n",
       "\n",
       "     POSTALCODE COUNTRY CONTACTLASTNAME CONTACTFIRSTNAME DEALSIZE  \n",
       "2744      28034   Spain          Freyre            Diego   Medium  \n",
       "2745      31000  France          Roulet          Annette    Small  \n",
       "2746      51003     USA         Yoshido             Juri   Medium  "
      ]
     },
     "metadata": {},
     "output_type": "display_data"
    },
    {
     "name": "stdout",
     "output_type": "stream",
     "text": [
      "Complete Data Upload\n"
     ]
    }
   ],
   "source": [
    "#Upload the individual documents into one data frame\n",
    "file_directory = 'Car Sales Data/'\n",
    "all_files = glob.glob(file_directory + \"/*.csv\")\n",
    "\n",
    "\n",
    "file_list = []\n",
    "\n",
    "for filename in all_files:\n",
    "    df1 = pd.read_csv(filename, parse_dates = ['ORDERDATE'], dayfirst=True, index_col=None, header=0)\n",
    "    file_list.append(df1)\n",
    "display('Number of files: ', len(file_list))\n",
    "df = pd.concat(file_list, axis=0, ignore_index=True)\n",
    "display('Total number of rows: ', df.shape[0])\n",
    "display(df[-3:])\n",
    "print('Complete Data Upload')"
   ]
  },
  {
   "cell_type": "code",
   "execution_count": 24,
   "id": "b13503d5-f9a7-4ec3-ae01-e4eb1e1edee2",
   "metadata": {},
   "outputs": [],
   "source": [
    "#Copy the dataframe into a new one so the original data is preserved.\n",
    "cars_df = df.copy()"
   ]
  },
  {
   "cell_type": "code",
   "execution_count": 25,
   "id": "f918bbfc-13e3-4033-8deb-668ef4ac8fbb",
   "metadata": {
    "tags": []
   },
   "outputs": [
    {
     "name": "stdout",
     "output_type": "stream",
     "text": [
      "******************************\n",
      "The number of rows:\n",
      "  2747\n",
      "******************************\n",
      "The number of columns: \n",
      " 20\n",
      "******************************\n",
      "The types of data in the data frame:\n",
      "  ORDERNUMBER                      int64\n",
      "QUANTITYORDERED                  int64\n",
      "PRICEEACH                      float64\n",
      "ORDERLINENUMBER                  int64\n",
      "SALES                          float64\n",
      "ORDERDATE               datetime64[ns]\n",
      "DAYS_SINCE_LASTORDER             int64\n",
      "STATUS                          object\n",
      "PRODUCTLINE                     object\n",
      "MSRP                             int64\n",
      "PRODUCTCODE                     object\n",
      "CUSTOMERNAME                    object\n",
      "PHONE                           object\n",
      "ADDRESSLINE1                    object\n",
      "CITY                            object\n",
      "POSTALCODE                      object\n",
      "COUNTRY                         object\n",
      "CONTACTLASTNAME                 object\n",
      "CONTACTFIRSTNAME                object\n",
      "DEALSIZE                        object\n",
      "dtype: object\n",
      "******************************\n",
      "The description of the data: \n",
      "         ORDERNUMBER  QUANTITYORDERED    PRICEEACH  ORDERLINENUMBER  \\\n",
      "count   2747.000000      2747.000000  2747.000000      2747.000000   \n",
      "mean   10259.761558        35.103021   101.098952         6.491081   \n",
      "min    10100.000000         6.000000    26.880000         1.000000   \n",
      "25%    10181.000000        27.000000    68.745000         3.000000   \n",
      "50%    10264.000000        35.000000    95.550000         6.000000   \n",
      "75%    10334.500000        43.000000   127.100000         9.000000   \n",
      "max    10425.000000        97.000000   252.870000        18.000000   \n",
      "std       91.877521         9.762135    42.042549         4.230544   \n",
      "\n",
      "              SALES                      ORDERDATE  DAYS_SINCE_LASTORDER  \\\n",
      "count   2747.000000                           2747           2747.000000   \n",
      "mean    3553.047583  2019-05-13 21:56:17.211503360           1757.085912   \n",
      "min      482.130000            2018-01-06 00:00:00             42.000000   \n",
      "25%     2204.350000            2018-11-08 00:00:00           1077.000000   \n",
      "50%     3184.800000            2019-06-24 00:00:00           1761.000000   \n",
      "75%     4503.095000            2019-11-17 00:00:00           2436.500000   \n",
      "max    14082.800000            2020-05-31 00:00:00           3562.000000   \n",
      "std     1838.953901                            NaN            819.280576   \n",
      "\n",
      "              MSRP  \n",
      "count  2747.000000  \n",
      "mean    100.691664  \n",
      "min      33.000000  \n",
      "25%      68.000000  \n",
      "50%      99.000000  \n",
      "75%     124.000000  \n",
      "max     214.000000  \n",
      "std      40.114802  \n",
      "******************************\n",
      "The description of the data: \n",
      "  Index(['ORDERNUMBER', 'QUANTITYORDERED', 'PRICEEACH', 'ORDERLINENUMBER',\n",
      "       'SALES', 'ORDERDATE', 'DAYS_SINCE_LASTORDER', 'STATUS', 'PRODUCTLINE',\n",
      "       'MSRP', 'PRODUCTCODE', 'CUSTOMERNAME', 'PHONE', 'ADDRESSLINE1', 'CITY',\n",
      "       'POSTALCODE', 'COUNTRY', 'CONTACTLASTNAME', 'CONTACTFIRSTNAME',\n",
      "       'DEALSIZE'],\n",
      "      dtype='object')\n",
      "******************************\n",
      "The first three rows look like this:\n",
      "     ORDERNUMBER  QUANTITYORDERED  PRICEEACH  ORDERLINENUMBER    SALES  \\\n",
      "0        10107               30      95.70                2  2871.00   \n",
      "1        10121               34      81.35                5  2765.90   \n",
      "2        10134               41      94.74                2  3884.34   \n",
      "\n",
      "   ORDERDATE  DAYS_SINCE_LASTORDER   STATUS  PRODUCTLINE  MSRP PRODUCTCODE  \\\n",
      "0 2018-02-24                   828  Shipped  Motorcycles    95    S10_1678   \n",
      "1 2018-05-07                   757  Shipped  Motorcycles    95    S10_1678   \n",
      "2 2018-07-01                   703  Shipped  Motorcycles    95    S10_1678   \n",
      "\n",
      "         CUSTOMERNAME             PHONE                   ADDRESSLINE1   CITY  \\\n",
      "0   Land of Toys Inc.        2125557818        897 Long Airport Avenue    NYC   \n",
      "1  Reims Collectables        26.47.1555             59 rue de l'Abbaye  Reims   \n",
      "2     Lyon Souveniers  +33 1 46 62 7555  27 rue du Colonel Pierre Avia  Paris   \n",
      "\n",
      "  POSTALCODE COUNTRY CONTACTLASTNAME CONTACTFIRSTNAME DEALSIZE  \n",
      "0      10022     USA              Yu             Kwai    Small  \n",
      "1      51100  France         Henriot             Paul    Small  \n",
      "2      75508  France        Da Cunha           Daniel   Medium  \n",
      "******************************\n"
     ]
    }
   ],
   "source": [
    "print('*'*30)\n",
    "print('The number of rows:\\n ',cars_df.shape[0])\n",
    "print('*'*30)\n",
    "print('The number of columns: \\n', cars_df.shape[1])\n",
    "print('*'*30)\n",
    "print('The types of data in the data frame:\\n ', cars_df.dtypes)\n",
    "print('*'*30)\n",
    "print('The description of the data: \\n', cars_df.describe())\n",
    "print('*'*30)\n",
    "print('The description of the data: \\n ', cars_df.columns)\n",
    "print('*'*30)\n",
    "print('The first three rows look like this:\\n ', cars_df.head(3))\n",
    "print('*'*30)"
   ]
  },
  {
   "cell_type": "code",
   "execution_count": 26,
   "id": "62c75774-48e2-4c54-81b9-3af2ab9dfbb8",
   "metadata": {},
   "outputs": [],
   "source": [
    "from datetime import datetime\n",
    "\n",
    "## Create a new feature 'DAYS_SINCE_LASTORDER' based on the time difference\n",
    "temp_date = datetime(2020, 1, 6)  # Replace with your desired date\n",
    "\n",
    "# cars_df['DAYS_SINCE_LASTORDER'] = \n",
    "temp_date = pd.Timestamp(2020, 6, 1)  # Define the specific date\n",
    "# temp_date\n",
    "cars_df['DAYS_SINCE_LASTORDER'] = (temp_date - cars_df['ORDERDATE']).dt.days\n",
    "\n",
    "# Let's drop the 'DAYS_SINCE_LASTORDER' column if it already exists\n",
    "if 'DAYS_SINCE_LASTORDER' in cars_df.columns:\n",
    "    cars_df = cars_df.drop('DAYS_SINCE_LASTORDER', axis=1)\n"
   ]
  },
  {
   "cell_type": "markdown",
   "id": "cebfd30a-51a4-423f-8ad0-e0ac7c45d2e7",
   "metadata": {},
   "source": [
    "**Numerical features**\n",
    "\n",
    "* Since ORDERNUMBER is not relevant for the EDA here, we will drop for Exploratory data analysis & visualizations"
   ]
  },
  {
   "cell_type": "code",
   "execution_count": 27,
   "id": "f0899724-3f8e-4f4b-8597-d31d6ffba705",
   "metadata": {},
   "outputs": [
    {
     "name": "stdout",
     "output_type": "stream",
     "text": [
      "Index(['QUANTITYORDERED', 'PRICEEACH', 'ORDERLINENUMBER', 'SALES', 'MSRP'], dtype='object') 5\n"
     ]
    }
   ],
   "source": [
    "cars_df_num = cars_df.select_dtypes(include=['float64', 'int64']).drop(columns=['ORDERNUMBER'])\n",
    "print(cars_df_num.columns, len(list(cars_df_num.columns.values)))"
   ]
  },
  {
   "cell_type": "markdown",
   "id": "8454d3f2-2e46-4f47-a7bd-2807d9025014",
   "metadata": {},
   "source": [
    "**Categorical Features** \n",
    "\n",
    "* We do not need below columns for analysis hence we will exlude from plots: 'PHONE','ADDRESSLINE1', 'CONTACTLASTNAME','CONTACTFIRSTNAME'"
   ]
  },
  {
   "cell_type": "code",
   "execution_count": 28,
   "id": "48df13ae-21e7-4c5b-95c6-cd6c6c76aef2",
   "metadata": {},
   "outputs": [
    {
     "name": "stdout",
     "output_type": "stream",
     "text": [
      "Index(['STATUS', 'PRODUCTLINE', 'PRODUCTCODE', 'CUSTOMERNAME', 'CITY',\n",
      "       'POSTALCODE', 'COUNTRY', 'DEALSIZE'],\n",
      "      dtype='object') 8\n"
     ]
    }
   ],
   "source": [
    "cars_df_cat = cars_df.select_dtypes(include = ['object']).drop(columns=['PHONE','ADDRESSLINE1', 'CONTACTLASTNAME','CONTACTFIRSTNAME'])\n",
    "print(cars_df_cat.columns, len(list(cars_df_cat.columns.values)))"
   ]
  },
  {
   "cell_type": "markdown",
   "id": "ed759cc2-4791-45a5-9633-7f5018711fc7",
   "metadata": {},
   "source": [
    "### **Display Summary**"
   ]
  },
  {
   "cell_type": "code",
   "execution_count": 29,
   "id": "9d6e2e01-4b50-419d-9703-62aa67ec1618",
   "metadata": {},
   "outputs": [
    {
     "data": {
      "text/html": [
       "<div>\n",
       "<style scoped>\n",
       "    .dataframe tbody tr th:only-of-type {\n",
       "        vertical-align: middle;\n",
       "    }\n",
       "\n",
       "    .dataframe tbody tr th {\n",
       "        vertical-align: top;\n",
       "    }\n",
       "\n",
       "    .dataframe thead th {\n",
       "        text-align: right;\n",
       "    }\n",
       "</style>\n",
       "<table border=\"1\" class=\"dataframe\">\n",
       "  <thead>\n",
       "    <tr style=\"text-align: right;\">\n",
       "      <th></th>\n",
       "      <th>count</th>\n",
       "      <th>mean</th>\n",
       "      <th>std</th>\n",
       "      <th>min</th>\n",
       "      <th>25%</th>\n",
       "      <th>50%</th>\n",
       "      <th>75%</th>\n",
       "      <th>max</th>\n",
       "    </tr>\n",
       "  </thead>\n",
       "  <tbody>\n",
       "    <tr>\n",
       "      <th>QUANTITYORDERED</th>\n",
       "      <td>2747.0</td>\n",
       "      <td>35.10</td>\n",
       "      <td>9.76</td>\n",
       "      <td>6.00</td>\n",
       "      <td>27.00</td>\n",
       "      <td>35.00</td>\n",
       "      <td>43.00</td>\n",
       "      <td>97.00</td>\n",
       "    </tr>\n",
       "    <tr>\n",
       "      <th>PRICEEACH</th>\n",
       "      <td>2747.0</td>\n",
       "      <td>101.10</td>\n",
       "      <td>42.04</td>\n",
       "      <td>26.88</td>\n",
       "      <td>68.74</td>\n",
       "      <td>95.55</td>\n",
       "      <td>127.10</td>\n",
       "      <td>252.87</td>\n",
       "    </tr>\n",
       "    <tr>\n",
       "      <th>ORDERLINENUMBER</th>\n",
       "      <td>2747.0</td>\n",
       "      <td>6.49</td>\n",
       "      <td>4.23</td>\n",
       "      <td>1.00</td>\n",
       "      <td>3.00</td>\n",
       "      <td>6.00</td>\n",
       "      <td>9.00</td>\n",
       "      <td>18.00</td>\n",
       "    </tr>\n",
       "    <tr>\n",
       "      <th>SALES</th>\n",
       "      <td>2747.0</td>\n",
       "      <td>3553.05</td>\n",
       "      <td>1838.95</td>\n",
       "      <td>482.13</td>\n",
       "      <td>2204.35</td>\n",
       "      <td>3184.80</td>\n",
       "      <td>4503.09</td>\n",
       "      <td>14082.80</td>\n",
       "    </tr>\n",
       "    <tr>\n",
       "      <th>MSRP</th>\n",
       "      <td>2747.0</td>\n",
       "      <td>100.69</td>\n",
       "      <td>40.11</td>\n",
       "      <td>33.00</td>\n",
       "      <td>68.00</td>\n",
       "      <td>99.00</td>\n",
       "      <td>124.00</td>\n",
       "      <td>214.00</td>\n",
       "    </tr>\n",
       "  </tbody>\n",
       "</table>\n",
       "</div>"
      ],
      "text/plain": [
       "                  count     mean      std     min      25%      50%      75%  \\\n",
       "QUANTITYORDERED  2747.0    35.10     9.76    6.00    27.00    35.00    43.00   \n",
       "PRICEEACH        2747.0   101.10    42.04   26.88    68.74    95.55   127.10   \n",
       "ORDERLINENUMBER  2747.0     6.49     4.23    1.00     3.00     6.00     9.00   \n",
       "SALES            2747.0  3553.05  1838.95  482.13  2204.35  3184.80  4503.09   \n",
       "MSRP             2747.0   100.69    40.11   33.00    68.00    99.00   124.00   \n",
       "\n",
       "                      max  \n",
       "QUANTITYORDERED     97.00  \n",
       "PRICEEACH          252.87  \n",
       "ORDERLINENUMBER     18.00  \n",
       "SALES            14082.80  \n",
       "MSRP               214.00  "
      ]
     },
     "metadata": {},
     "output_type": "display_data"
    }
   ],
   "source": [
    "#Descriptive Summary of the dataset - Numeric features\n",
    "\n",
    "display(round(cars_df_num.describe(),2).T)"
   ]
  },
  {
   "cell_type": "code",
   "execution_count": 30,
   "id": "4d219053-f980-45ac-8950-679dbc6a57b0",
   "metadata": {},
   "outputs": [
    {
     "data": {
      "text/html": [
       "<div>\n",
       "<style scoped>\n",
       "    .dataframe tbody tr th:only-of-type {\n",
       "        vertical-align: middle;\n",
       "    }\n",
       "\n",
       "    .dataframe tbody tr th {\n",
       "        vertical-align: top;\n",
       "    }\n",
       "\n",
       "    .dataframe thead th {\n",
       "        text-align: right;\n",
       "    }\n",
       "</style>\n",
       "<table border=\"1\" class=\"dataframe\">\n",
       "  <thead>\n",
       "    <tr style=\"text-align: right;\">\n",
       "      <th></th>\n",
       "      <th>count</th>\n",
       "      <th>unique</th>\n",
       "      <th>top</th>\n",
       "      <th>freq</th>\n",
       "    </tr>\n",
       "  </thead>\n",
       "  <tbody>\n",
       "    <tr>\n",
       "      <th>STATUS</th>\n",
       "      <td>2742</td>\n",
       "      <td>6</td>\n",
       "      <td>Shipped</td>\n",
       "      <td>2538</td>\n",
       "    </tr>\n",
       "    <tr>\n",
       "      <th>PRODUCTLINE</th>\n",
       "      <td>2742</td>\n",
       "      <td>7</td>\n",
       "      <td>Classic Cars</td>\n",
       "      <td>949</td>\n",
       "    </tr>\n",
       "    <tr>\n",
       "      <th>PRODUCTCODE</th>\n",
       "      <td>2742</td>\n",
       "      <td>109</td>\n",
       "      <td>S18_3232</td>\n",
       "      <td>51</td>\n",
       "    </tr>\n",
       "    <tr>\n",
       "      <th>CUSTOMERNAME</th>\n",
       "      <td>2742</td>\n",
       "      <td>89</td>\n",
       "      <td>Euro Shopping Channel</td>\n",
       "      <td>257</td>\n",
       "    </tr>\n",
       "    <tr>\n",
       "      <th>CITY</th>\n",
       "      <td>2742</td>\n",
       "      <td>71</td>\n",
       "      <td>Madrid</td>\n",
       "      <td>302</td>\n",
       "    </tr>\n",
       "    <tr>\n",
       "      <th>POSTALCODE</th>\n",
       "      <td>2742</td>\n",
       "      <td>73</td>\n",
       "      <td>28034</td>\n",
       "      <td>257</td>\n",
       "    </tr>\n",
       "    <tr>\n",
       "      <th>COUNTRY</th>\n",
       "      <td>2742</td>\n",
       "      <td>19</td>\n",
       "      <td>USA</td>\n",
       "      <td>927</td>\n",
       "    </tr>\n",
       "    <tr>\n",
       "      <th>DEALSIZE</th>\n",
       "      <td>2742</td>\n",
       "      <td>3</td>\n",
       "      <td>Medium</td>\n",
       "      <td>1346</td>\n",
       "    </tr>\n",
       "  </tbody>\n",
       "</table>\n",
       "</div>"
      ],
      "text/plain": [
       "             count unique                    top  freq\n",
       "STATUS        2742      6                Shipped  2538\n",
       "PRODUCTLINE   2742      7           Classic Cars   949\n",
       "PRODUCTCODE   2742    109               S18_3232    51\n",
       "CUSTOMERNAME  2742     89  Euro Shopping Channel   257\n",
       "CITY          2742     71                 Madrid   302\n",
       "POSTALCODE    2742     73                  28034   257\n",
       "COUNTRY       2742     19                    USA   927\n",
       "DEALSIZE      2742      3                 Medium  1346"
      ]
     },
     "execution_count": 30,
     "metadata": {},
     "output_type": "execute_result"
    }
   ],
   "source": [
    "#Descriptive Summary of the dataset - Categorical features\n",
    "\n",
    "cars_df_cat.select_dtypes(include = ['object'])[:-5].describe().T"
   ]
  },
  {
   "cell_type": "markdown",
   "id": "6021ac9b-9a36-4911-8e39-02f3de8d9e00",
   "metadata": {},
   "source": [
    "What insights can you infer from these few dataframes?"
   ]
  },
  {
   "cell_type": "markdown",
   "id": "0e905f1c-ddaf-4ab8-bbbf-c950e6530277",
   "metadata": {},
   "source": [
    "### **Missing Values**"
   ]
  },
  {
   "cell_type": "code",
   "execution_count": 31,
   "id": "583219ef-fcfa-45dc-9443-659f2b89a190",
   "metadata": {},
   "outputs": [
    {
     "data": {
      "text/plain": [
       "ORDERNUMBER         0\n",
       "QUANTITYORDERED     0\n",
       "PRICEEACH           0\n",
       "ORDERLINENUMBER     0\n",
       "SALES               0\n",
       "ORDERDATE           0\n",
       "STATUS              0\n",
       "PRODUCTLINE         0\n",
       "MSRP                0\n",
       "PRODUCTCODE         0\n",
       "CUSTOMERNAME        0\n",
       "PHONE               0\n",
       "ADDRESSLINE1        0\n",
       "CITY                0\n",
       "POSTALCODE          0\n",
       "COUNTRY             0\n",
       "CONTACTLASTNAME     0\n",
       "CONTACTFIRSTNAME    0\n",
       "DEALSIZE            0\n",
       "dtype: int64"
      ]
     },
     "execution_count": 31,
     "metadata": {},
     "output_type": "execute_result"
    }
   ],
   "source": [
    "#Missing values\n",
    "cars_df.isnull().sum()"
   ]
  },
  {
   "cell_type": "markdown",
   "id": "b961891b-7683-4088-b02b-f758a947fe8e",
   "metadata": {},
   "source": [
    "* No missing values found\n",
    "\n",
    "### **Duplicate Values**"
   ]
  },
  {
   "cell_type": "code",
   "execution_count": 32,
   "id": "b8032d81-6b12-4be9-89ab-ed58c38198df",
   "metadata": {},
   "outputs": [
    {
     "data": {
      "text/plain": [
       "0"
      ]
     },
     "execution_count": 32,
     "metadata": {},
     "output_type": "execute_result"
    }
   ],
   "source": [
    "#Checking duplicate values\n",
    "cars_df.duplicated().sum()"
   ]
  },
  {
   "cell_type": "markdown",
   "id": "d49a5879-af15-4200-b161-d53ad66b18e3",
   "metadata": {},
   "source": [
    "* No Duplicate values found\n",
    "\n",
    "### **Univariate Analysis**\n",
    "\n",
    "What type of EDA visualizations would be best to have to analyze the `STATUS`, `PRODUCTLINE`, and `DEALSIZE`?"
   ]
  },
  {
   "cell_type": "code",
   "execution_count": null,
   "metadata": {},
   "outputs": [],
   "source": [
    "%pip install nbformat"
   ]
  },
  {
   "cell_type": "code",
   "execution_count": 35,
   "id": "a3f84c72-b611-49ce-8c23-19848f9209ff",
   "metadata": {
    "tags": []
   },
   "outputs": [
    {
     "name": "stdout",
     "output_type": "stream",
     "text": [
      "Collecting nbformat\n",
      "  Downloading nbformat-5.9.2-py3-none-any.whl.metadata (3.4 kB)\n",
      "Collecting fastjsonschema (from nbformat)\n",
      "  Downloading fastjsonschema-2.19.0-py3-none-any.whl.metadata (2.0 kB)\n",
      "Collecting jsonschema>=2.6 (from nbformat)\n",
      "  Downloading jsonschema-4.20.0-py3-none-any.whl.metadata (8.1 kB)\n",
      "Requirement already satisfied: jupyter-core in c:\\users\\jamal\\appdata\\local\\packages\\pythonsoftwarefoundation.python.3.11_qbz5n2kfra8p0\\localcache\\local-packages\\python311\\site-packages (from nbformat) (5.5.0)\n",
      "Requirement already satisfied: traitlets>=5.1 in c:\\users\\jamal\\appdata\\local\\packages\\pythonsoftwarefoundation.python.3.11_qbz5n2kfra8p0\\localcache\\local-packages\\python311\\site-packages (from nbformat) (5.13.0)\n",
      "Collecting attrs>=22.2.0 (from jsonschema>=2.6->nbformat)\n",
      "  Downloading attrs-23.1.0-py3-none-any.whl (61 kB)\n",
      "     ---------------------------------------- 0.0/61.2 kB ? eta -:--:--\n",
      "     ------------------------- ------------ 41.0/61.2 kB 991.0 kB/s eta 0:00:01\n",
      "     ---------------------------------------- 61.2/61.2 kB 1.6 MB/s eta 0:00:00\n",
      "Collecting jsonschema-specifications>=2023.03.6 (from jsonschema>=2.6->nbformat)\n",
      "  Downloading jsonschema_specifications-2023.11.2-py3-none-any.whl.metadata (3.0 kB)\n",
      "Collecting referencing>=0.28.4 (from jsonschema>=2.6->nbformat)\n",
      "  Downloading referencing-0.31.1-py3-none-any.whl.metadata (2.7 kB)\n",
      "Collecting rpds-py>=0.7.1 (from jsonschema>=2.6->nbformat)\n",
      "  Downloading rpds_py-0.13.2-cp311-none-win_amd64.whl.metadata (4.0 kB)\n",
      "Requirement already satisfied: platformdirs>=2.5 in c:\\users\\jamal\\appdata\\local\\packages\\pythonsoftwarefoundation.python.3.11_qbz5n2kfra8p0\\localcache\\local-packages\\python311\\site-packages (from jupyter-core->nbformat) (3.11.0)\n",
      "Requirement already satisfied: pywin32>=300 in c:\\users\\jamal\\appdata\\local\\packages\\pythonsoftwarefoundation.python.3.11_qbz5n2kfra8p0\\localcache\\local-packages\\python311\\site-packages (from jupyter-core->nbformat) (306)\n",
      "Downloading nbformat-5.9.2-py3-none-any.whl (77 kB)\n",
      "   ---------------------------------------- 0.0/77.6 kB ? eta -:--:--\n",
      "   ---------------------------------------- 77.6/77.6 kB 2.2 MB/s eta 0:00:00\n",
      "Downloading jsonschema-4.20.0-py3-none-any.whl (84 kB)\n",
      "   ---------------------------------------- 0.0/84.7 kB ? eta -:--:--\n",
      "   ---------------------------------------- 84.7/84.7 kB 4.7 MB/s eta 0:00:00\n",
      "Downloading fastjsonschema-2.19.0-py3-none-any.whl (23 kB)\n",
      "Downloading jsonschema_specifications-2023.11.2-py3-none-any.whl (17 kB)\n",
      "Downloading referencing-0.31.1-py3-none-any.whl (25 kB)\n",
      "Downloading rpds_py-0.13.2-cp311-none-win_amd64.whl (188 kB)\n",
      "   ---------------------------------------- 0.0/188.7 kB ? eta -:--:--\n",
      "   --------------------------------------- 188.7/188.7 kB 11.2 MB/s eta 0:00:00\n",
      "Installing collected packages: fastjsonschema, rpds-py, attrs, referencing, jsonschema-specifications, jsonschema, nbformat\n",
      "Successfully installed attrs-23.1.0 fastjsonschema-2.19.0 jsonschema-4.20.0 jsonschema-specifications-2023.11.2 nbformat-5.9.2 referencing-0.31.1 rpds-py-0.13.2\n",
      "Note: you may need to restart the kernel to use updated packages.\n",
      "Distribution of STATUS\n",
      "____________________________________________________________\n"
     ]
    },
    {
     "ename": "ValueError",
     "evalue": "Mime type rendering requires nbformat>=4.2.0 but it is not installed",
     "output_type": "error",
     "traceback": [
      "\u001b[1;31m---------------------------------------------------------------------------\u001b[0m",
      "\u001b[1;31mValueError\u001b[0m                                Traceback (most recent call last)",
      "\u001b[1;32mc:\\Users\\jamal\\jamaleb67.github.io\\jamaleb67.github.io\\car-sales-visualizations-main-Car Sales Exercise\\Car Sales Exercise\\Car Sales Visualizations Student Exercise.ipynb Cell 25\u001b[0m line \u001b[0;36m2\n\u001b[0;32m     <a href='vscode-notebook-cell:/c%3A/Users/jamal/jamaleb67.github.io/jamaleb67.github.io/car-sales-visualizations-main-Car%20Sales%20Exercise/Car%20Sales%20Exercise/Car%20Sales%20Visualizations%20Student%20Exercise.ipynb#X32sZmlsZQ%3D%3D?line=23'>24</a>\u001b[0m     \u001b[39mprint\u001b[39m(\u001b[39m\"\u001b[39m\u001b[39m       \u001b[39m\u001b[39m\"\u001b[39m)\n\u001b[0;32m     <a href='vscode-notebook-cell:/c%3A/Users/jamal/jamaleb67.github.io/jamaleb67.github.io/car-sales-visualizations-main-Car%20Sales%20Exercise/Car%20Sales%20Exercise/Car%20Sales%20Visualizations%20Student%20Exercise.ipynb#X32sZmlsZQ%3D%3D?line=24'>25</a>\u001b[0m \u001b[39mfor\u001b[39;00m x \u001b[39min\u001b[39;00m cat_columns:\n\u001b[1;32m---> <a href='vscode-notebook-cell:/c%3A/Users/jamal/jamaleb67.github.io/jamaleb67.github.io/car-sales-visualizations-main-Car%20Sales%20Exercise/Car%20Sales%20Exercise/Car%20Sales%20Visualizations%20Student%20Exercise.ipynb#X32sZmlsZQ%3D%3D?line=25'>26</a>\u001b[0m     univariateAnalysis_category(x)\n",
      "\u001b[1;32mc:\\Users\\jamal\\jamaleb67.github.io\\jamaleb67.github.io\\car-sales-visualizations-main-Car Sales Exercise\\Car Sales Exercise\\Car Sales Visualizations Student Exercise.ipynb Cell 25\u001b[0m line \u001b[0;36m1\n\u001b[0;32m     <a href='vscode-notebook-cell:/c%3A/Users/jamal/jamaleb67.github.io/jamaleb67.github.io/car-sales-visualizations-main-Car%20Sales%20Exercise/Car%20Sales%20Exercise/Car%20Sales%20Visualizations%20Student%20Exercise.ipynb#X32sZmlsZQ%3D%3D?line=11'>12</a>\u001b[0m fig\u001b[39m.\u001b[39mupdate_layout(width\u001b[39m=\u001b[39m\u001b[39m700\u001b[39m)\n\u001b[0;32m     <a href='vscode-notebook-cell:/c%3A/Users/jamal/jamaleb67.github.io/jamaleb67.github.io/car-sales-visualizations-main-Car%20Sales%20Exercise/Car%20Sales%20Exercise/Car%20Sales%20Visualizations%20Student%20Exercise.ipynb#X32sZmlsZQ%3D%3D?line=12'>13</a>\u001b[0m fig\u001b[39m.\u001b[39mupdate_layout(plot_bgcolor\u001b[39m=\u001b[39m\u001b[39m'\u001b[39m\u001b[39m#ffffff\u001b[39m\u001b[39m'\u001b[39m, paper_bgcolor\u001b[39m=\u001b[39m\u001b[39m'\u001b[39m\u001b[39m#ffffff\u001b[39m\u001b[39m'\u001b[39m)\n\u001b[1;32m---> <a href='vscode-notebook-cell:/c%3A/Users/jamal/jamaleb67.github.io/jamaleb67.github.io/car-sales-visualizations-main-Car%20Sales%20Exercise/Car%20Sales%20Exercise/Car%20Sales%20Visualizations%20Student%20Exercise.ipynb#X32sZmlsZQ%3D%3D?line=13'>14</a>\u001b[0m fig\u001b[39m.\u001b[39;49mshow()\n\u001b[0;32m     <a href='vscode-notebook-cell:/c%3A/Users/jamal/jamaleb67.github.io/jamaleb67.github.io/car-sales-visualizations-main-Car%20Sales%20Exercise/Car%20Sales%20Exercise/Car%20Sales%20Visualizations%20Student%20Exercise.ipynb#X32sZmlsZQ%3D%3D?line=14'>15</a>\u001b[0m \u001b[39m# Donut chart - Which graphic would you use to obtain a percentage plot?\u001b[39;00m\n\u001b[0;32m     <a href='vscode-notebook-cell:/c%3A/Users/jamal/jamaleb67.github.io/jamaleb67.github.io/car-sales-visualizations-main-Car%20Sales%20Exercise/Car%20Sales%20Exercise/Car%20Sales%20Visualizations%20Student%20Exercise.ipynb#X32sZmlsZQ%3D%3D?line=15'>16</a>\u001b[0m percentage \u001b[39m=\u001b[39m (value_counts \u001b[39m/\u001b[39m value_counts\u001b[39m.\u001b[39msum()) \u001b[39m*\u001b[39m \u001b[39m100\u001b[39m\n",
      "File \u001b[1;32m~\\AppData\\Local\\Packages\\PythonSoftwareFoundation.Python.3.11_qbz5n2kfra8p0\\LocalCache\\local-packages\\Python311\\site-packages\\plotly\\basedatatypes.py:3410\u001b[0m, in \u001b[0;36mBaseFigure.show\u001b[1;34m(self, *args, **kwargs)\u001b[0m\n\u001b[0;32m   3377\u001b[0m \u001b[39m\u001b[39m\u001b[39m\"\"\"\u001b[39;00m\n\u001b[0;32m   3378\u001b[0m \u001b[39mShow a figure using either the default renderer(s) or the renderer(s)\u001b[39;00m\n\u001b[0;32m   3379\u001b[0m \u001b[39mspecified by the renderer argument\u001b[39;00m\n\u001b[1;32m   (...)\u001b[0m\n\u001b[0;32m   3406\u001b[0m \u001b[39mNone\u001b[39;00m\n\u001b[0;32m   3407\u001b[0m \u001b[39m\"\"\"\u001b[39;00m\n\u001b[0;32m   3408\u001b[0m \u001b[39mimport\u001b[39;00m \u001b[39mplotly\u001b[39;00m\u001b[39m.\u001b[39;00m\u001b[39mio\u001b[39;00m \u001b[39mas\u001b[39;00m \u001b[39mpio\u001b[39;00m\n\u001b[1;32m-> 3410\u001b[0m \u001b[39mreturn\u001b[39;00m pio\u001b[39m.\u001b[39;49mshow(\u001b[39mself\u001b[39;49m, \u001b[39m*\u001b[39;49margs, \u001b[39m*\u001b[39;49m\u001b[39m*\u001b[39;49mkwargs)\n",
      "File \u001b[1;32m~\\AppData\\Local\\Packages\\PythonSoftwareFoundation.Python.3.11_qbz5n2kfra8p0\\LocalCache\\local-packages\\Python311\\site-packages\\plotly\\io\\_renderers.py:394\u001b[0m, in \u001b[0;36mshow\u001b[1;34m(fig, renderer, validate, **kwargs)\u001b[0m\n\u001b[0;32m    389\u001b[0m         \u001b[39mraise\u001b[39;00m \u001b[39mValueError\u001b[39;00m(\n\u001b[0;32m    390\u001b[0m             \u001b[39m\"\u001b[39m\u001b[39mMime type rendering requires ipython but it is not installed\u001b[39m\u001b[39m\"\u001b[39m\n\u001b[0;32m    391\u001b[0m         )\n\u001b[0;32m    393\u001b[0m     \u001b[39mif\u001b[39;00m \u001b[39mnot\u001b[39;00m nbformat \u001b[39mor\u001b[39;00m Version(nbformat\u001b[39m.\u001b[39m__version__) \u001b[39m<\u001b[39m Version(\u001b[39m\"\u001b[39m\u001b[39m4.2.0\u001b[39m\u001b[39m\"\u001b[39m):\n\u001b[1;32m--> 394\u001b[0m         \u001b[39mraise\u001b[39;00m \u001b[39mValueError\u001b[39;00m(\n\u001b[0;32m    395\u001b[0m             \u001b[39m\"\u001b[39m\u001b[39mMime type rendering requires nbformat>=4.2.0 but it is not installed\u001b[39m\u001b[39m\"\u001b[39m\n\u001b[0;32m    396\u001b[0m         )\n\u001b[0;32m    398\u001b[0m     ipython_display\u001b[39m.\u001b[39mdisplay(bundle, raw\u001b[39m=\u001b[39m\u001b[39mTrue\u001b[39;00m)\n\u001b[0;32m    400\u001b[0m \u001b[39m# external renderers\u001b[39;00m\n",
      "\u001b[1;31mValueError\u001b[0m: Mime type rendering requires nbformat>=4.2.0 but it is not installed"
     ]
    }
   ],
   "source": [
    "cat_columns = cars_df[['STATUS', 'PRODUCTLINE', 'DEALSIZE']]\n",
    "%pip install nbformat\n",
    "#num_columns = cars_df[['SALES', 'QUANTITYORDERED', 'PRICEEACH', 'ORDERLINENUMBER', 'QTR_ID', 'MONTH_ID', 'YEAR_ID', 'MSRP', 'DAYS_SINCE_LASTORDER']]\n",
    "def univariateAnalysis_category(cols):\n",
    "    print(\"Distribution of\", cols)\n",
    "    print(\"_\"* 60)\n",
    "    colors = ['#79a5db', '#e0a580', '#6fab90', '#896ca8', '#ADD8E6']\n",
    "    value_counts = cat_columns[cols].value_counts()\n",
    "    # Count plot - Which graphic would you use to obtain a count plot?\n",
    "    fig = px.bar(value_counts,x=value_counts.index, y=value_counts.values, title=f'Distribution of {cols}',\n",
    "        labels={'x': 'Categories', 'y': 'Count'},color_discrete_sequence=[colors])\n",
    "    fig.update_layout(width=700)\n",
    "    fig.update_layout(plot_bgcolor='#ffffff', paper_bgcolor='#ffffff')\n",
    "    fig.show()\n",
    "    # Donut chart - Which graphic would you use to obtain a percentage plot?\n",
    "    percentage = (value_counts / value_counts.sum()) * 100\n",
    "    fig = px.pie( values=percentage, names=value_counts.index,\n",
    "        labels={'names': 'Categories', 'values': 'Percentage'}, hole=0.5,color_discrete_sequence=colors)\n",
    "    fig.add_annotation( x=0.5, y=0.5, align=\"center\", xref=\"paper\",\n",
    "        yref=\"paper\", showarrow=False, font_size=15, text=f'{cols}')\n",
    "    fig.update_layout(legend=dict(x=0.9, y=0.5))\n",
    "    fig.update_layout(width=700)\n",
    "    fig.show()\n",
    "    print(\"       \")\n",
    "for x in cat_columns:\n",
    "    univariateAnalysis_category(x)"
   ]
  },
  {
   "cell_type": "markdown",
   "id": "58ffa218-e864-415d-984b-8a87821b6cc1",
   "metadata": {},
   "source": [
    "This cells displays several visualzations. which ones are shown and what do they say about the questions above? What are\n",
    "these visualizations explaining and why are they useful?"
   ]
  },
  {
   "cell_type": "code",
   "execution_count": null,
   "id": "fe9f45e4-22a1-4c51-a622-957cf043d3a1",
   "metadata": {
    "tags": []
   },
   "outputs": [],
   "source": [
    "def univariateAnalysis_numeric(column, nbins):\n",
    "    print(\"Description of \" + column)\n",
    "    print(\"*\" *30)\n",
    "    print(df[column].describe(), end=' ')\n",
    "    fig, axes = plt.subplots(1, 2, figsize=(15, 6))\n",
    "    # Plot histogram - Which graphic would you use to obtain a bar plots in different bins? \n",
    "    print(\"*\" *30)\n",
    "    sns.[fill_in_blank](df[column], bins=nbins, kde=True, ax=axes[0])\n",
    "    axes[0].set_title(\"Histogram of \" + column)\n",
    "    # Plot box plot - Which graphic would you use to obtain a plot with tails on each end?\n",
    "    print(\"*\" *30)\n",
    "    sns.[fill_in_blank](x=df[column], ax=axes[1])\n",
    "    axes[1].set_title(\"Boxlot of \" + column )\n",
    "    plt.show()\n",
    "for x in cars_df_num:\n",
    "    univariateAnalysis_numeric(x,20)"
   ]
  },
  {
   "cell_type": "code",
   "execution_count": null,
   "id": "1c425ecc-9508-40bf-9367-f2722bd74427",
   "metadata": {
    "tags": []
   },
   "outputs": [],
   "source": [
    "#Top 10 Counteries\n",
    "country_counts = cars_df['COUNTRY'].value_counts()[:10]\n",
    "fig = go.Figure(go.Funnel(y=country_counts.index,\n",
    "    x=country_counts.values, textinfo='value', marker={'color': px.colors.sequential.Blues_r}))\n",
    "fig.update_layout(title_text='Top 10 Country Distribution',  template='plotly_white')\n",
    "fig.show()"
   ]
  },
  {
   "cell_type": "code",
   "execution_count": null,
   "id": "2e4e1614-cfd7-4bfa-8bcc-57bda59d72ba",
   "metadata": {
    "tags": []
   },
   "outputs": [],
   "source": [
    "#Top 10 Cities\n",
    "city_counts = cars_df['CITY'].value_counts()[:10]\n",
    "fig = go.Figure(go.Funnel(    y=city_counts.index,\n",
    "    x=city_counts.values,      textinfo='value',\n",
    "    marker={'color': px.colors.sequential.Blues_r} ))\n",
    "fig.update_layout(title_text='Top 10 City Distribution', template='plotly_white')\n",
    "fig.show()"
   ]
  },
  {
   "cell_type": "code",
   "execution_count": null,
   "id": "2851c21e-987e-43ef-8985-7c5889e56bfb",
   "metadata": {
    "tags": []
   },
   "outputs": [],
   "source": [
    "#Top 10 Customer\n",
    "top10customer = cars_df.sort_values(by=\"SALES\", ascending = False).head(5)\n",
    "top10customer = cars_df['CUSTOMERNAME'].value_counts()[:10]\n",
    "fig = go.Figure(go.Funnel(  y=top10customer.index, x=top10customer.values,\n",
    "    textinfo='value', marker={'color': px.colors.sequential.Blues_r}))\n",
    "fig.update_layout(title_text='Top 10 Customer Distribution', template='plotly_white')\n",
    "fig.show()"
   ]
  },
  {
   "cell_type": "markdown",
   "id": "ac5c41dc-0949-4e69-bc67-8e00c02c3ed9",
   "metadata": {},
   "source": [
    "### **Bivariate Analysis**\n",
    "\n",
    "Lets investigate these data with Seaborn. What Seaborn functions will use scatter plots and histograms?"
   ]
  },
  {
   "cell_type": "code",
   "execution_count": null,
   "id": "39cebdc7-a61c-4fe4-9336-12728ebbae87",
   "metadata": {
    "tags": []
   },
   "outputs": [],
   "source": [
    "sns.[fill_in_blank](data=cars_df, corner = True )"
   ]
  },
  {
   "cell_type": "markdown",
   "id": "e6a468e2-1ff6-4342-8e87-04fa46fcfec3",
   "metadata": {},
   "source": [
    "Which graphic can be created to see if there are feature correlations are seen in `QUANTITYORDERED`?"
   ]
  },
  {
   "cell_type": "code",
   "execution_count": null,
   "id": "889e0f64-c107-4472-9a18-64e2cd953820",
   "metadata": {},
   "outputs": [],
   "source": [
    "corr = cars_df.corr(method='pearson')\n",
    "mask = np.triu(np.ones_like(corr))\n",
    "fig = plt.subplots(figsize=(8, 5))\n",
    "sns.[fill_in_blank](corr, annot=True,fmt='.2f',mask=mask, cbar=True, linewidth=0.5)\n",
    "plt.show()"
   ]
  },
  {
   "cell_type": "markdown",
   "id": "ed75a08e-29fe-4191-a642-f4033fb690d0",
   "metadata": {},
   "source": [
    "What are the correlations, if any?\n",
    "\n",
    "What other graphic could be used to display `SALES` Distribution in `Deal Size`? "
   ]
  },
  {
   "cell_type": "code",
   "execution_count": null,
   "id": "80f0c8e4-078e-4915-bc6a-42b4d17fdc6f",
   "metadata": {},
   "outputs": [],
   "source": [
    "#Sales Distribution in Deal Size \n",
    "plt.figure(1 , figsize = (10,5))\n",
    "sns.[fill_in_blank](x = 'DEALSIZE' , y = 'SALES' , data = cars_df, palette='rocket')\n",
    "plt.title('Sales Distribution in Deal Size')\n",
    "plt.xlabel(\"Deal Size\", fontsize=12)\n",
    "plt.ylabel(\"Sales\", fontsize=12)\n",
    "plt.xticks(rotation = 0)\n",
    "plt.show()\n"
   ]
  },
  {
   "cell_type": "markdown",
   "id": "25d3035a-01dc-49f0-a870-c3e644e668fe",
   "metadata": {},
   "source": [
    "What other graphic could be used to display `PRODUCTLINE`in `SALES` Distribition? "
   ]
  },
  {
   "cell_type": "code",
   "execution_count": null,
   "id": "c7fe5770-a779-4fca-84d3-78cb8e04c37f",
   "metadata": {
    "scrolled": true
   },
   "outputs": [],
   "source": [
    "#Sales Distribution in Product Line\n",
    "plt.figure(1 , figsize = (15,5))\n",
    "sns.[fill_in_blank](x = 'PRODUCTLINE' , y = 'SALES' , data = cars_df, palette='rocket')\n",
    "plt.title('Sales Distribution in Product Line',fontsize=12)\n",
    "plt.xlabel(\"Product Line\", fontsize=12)\n",
    "plt.ylabel(\"Sales\", fontsize=12)\n",
    "plt.show()"
   ]
  },
  {
   "cell_type": "markdown",
   "id": "2a3be8f4",
   "metadata": {},
   "source": [
    "### Yearly, Quarterly, Monthly, weekly Sales Trend¶"
   ]
  },
  {
   "cell_type": "code",
   "execution_count": null,
   "id": "ca27a54d",
   "metadata": {},
   "outputs": [],
   "source": [
    "# Extract year, month, week, and quarter from ORDERDATE\n",
    "cars_df['Year'] = cars_df['ORDERDATE'].dt.year\n",
    "cars_df['Month'] = cars_df['ORDERDATE'].dt.month\n",
    "cars_df['Week'] = cars_df['ORDERDATE'].dt.isocalendar().week\n",
    "cars_df['Quarter'] = cars_df['ORDERDATE'].dt.quarter\n",
    "# cars_df['Year'][:3]"
   ]
  },
  {
   "cell_type": "markdown",
   "id": "1ab86919-7162-4343-ae0a-9089f758ce01",
   "metadata": {},
   "source": [
    "### What plots would be used to show trends overtime? \n",
    "\n",
    "Using the `ORDEREDATE`, 'Quarter', `Month`, and `Week` columns, create a trend line. What are the graphs displaying?"
   ]
  },
  {
   "cell_type": "code",
   "execution_count": null,
   "id": "7c5c1198-bc2d-439d-b862-6526de9c84ae",
   "metadata": {},
   "outputs": [],
   "source": [
    "def create_trend_plots(df, x_data, x_label, y_data, y_label, chart_title):\n",
    "    sns.set(style=\"whitegrid\", rc={\"figure.figsize\": (20, 5)})\n",
    "    sns.[fill_in_blank](data=cars_df, x=x_data, y=y_data, ci=None, hue=\"Year\",palette=sns.color_palette(\"Set1\", len(cars_df['Year'].unique())))\n",
    "    plt.title(\"Sales Trend by \" + chart_title)\n",
    "    plt.xlabel(x_label, fontsize=10)\n",
    "    plt.ylabel(y_label, fontsize=10)\n",
    "    plt.legend(title=\"Year\", loc='best')\n",
    "    plt.show()\n"
   ]
  },
  {
   "cell_type": "code",
   "execution_count": null,
   "id": "b2f80d5c-fee4-4df7-a2da-ebe697ed26be",
   "metadata": {
    "tags": []
   },
   "outputs": [],
   "source": [
    "#Execute the above create_trend_plots() from above.\n",
    "create_trend_plots(cars_df,\"ORDERDATE\",\"Year\", \"SALES\", \"SALES\", \"Year\" )\n",
    "print('')\n",
    "create_trend_plots(cars_df,\"Quarter\",\"Quarter\", \"SALES\", \"SALES\", \"Quarter\" )\n",
    "print('')\n",
    "create_trend_plots(cars_df,\"Month\",\"Month\", \"SALES\", \"SALES\", \"Month\" )\n",
    "print('')\n",
    "create_trend_plots(cars_df,\"Week\",\"Week\", \"SALES\", \"SALES\", \"Week\" )"
   ]
  },
  {
   "cell_type": "markdown",
   "id": "c4ba3292",
   "metadata": {},
   "source": [
    "### Multivariate Analysis"
   ]
  },
  {
   "cell_type": "code",
   "execution_count": null,
   "id": "94fce85a",
   "metadata": {},
   "outputs": [],
   "source": [
    "# Comparison between Sales, Product Line along with Dealsize as Hue\n",
    "sns.set(style=\"white\", rc={\"figure.figsize\": (15, 5)})\n",
    "cars_df[\"SALES (K)\"] = cars_df[\"SALES\"] / 1000\n",
    "sns.[fill_in_blank](data=cars_df, x=\"PRODUCTLINE\", y=\"SALES (K)\", hue=\"DEALSIZE\", palette=\"Set2\", ci=None)\n",
    "plt.ylabel(\"SALES (K)\", fontsize=10)\n",
    "plt.xlabel(\"Product Line\", fontsize=10)\n",
    "for p in plt.gca().patches:\n",
    "    plt.gca().annotate(f'{p.get_height():.1f}K', (p.get_x() + p.get_width() / 2., p.get_height()), ha='center', va='bottom', fontsize=8)\n",
    "plt.legend(title=\"Deal Size\", fontsize=8, loc=\"upper left\", bbox_to_anchor=(1, 1))\n",
    "plt.show()"
   ]
  },
  {
   "cell_type": "code",
   "execution_count": null,
   "id": "704a2bad-7f2a-4176-8504-76bdf4986453",
   "metadata": {},
   "outputs": [],
   "source": [
    "def multivariate_analysis_visualizations(df, x_data, x_label, y_data, y_label, hue, legend_title):\n",
    "    '''\n",
    "    This user-defined function creates barplot visualization that provides insight into the product line compared to quantity ordered, price of\n",
    "    each vehicle, and MSRP based on deal size.\n",
    "    '''\n",
    "    sns.set(style=\"white\", rc={\"figure.figsize\": (15, 5)})\n",
    "    sns.[fill_in_blank](data=df, x=x_data, y=y_data, hue=hue, palette=\"viridis\", ci=None)\n",
    "    plt.ylabel(y_label, fontsize=10)\n",
    "    plt.xlabel(x_label, fontsize=10)\n",
    "    for p in plt.gca().patches:\n",
    "        plt.gca().annotate(f'{p.get_height():.1f}', (p.get_x() + p.get_width() / 2., p.get_height()), ha='center', va='bottom',fontsize=8)\n",
    "    plt.legend(title=legend_title, fontsize=10, loc=\"upper left\", bbox_to_anchor=(1, 1))\n",
    "    plt.show()"
   ]
  },
  {
   "cell_type": "code",
   "execution_count": null,
   "id": "43a992c5-3c60-4108-9089-b841c139d774",
   "metadata": {
    "tags": []
   },
   "outputs": [],
   "source": [
    "#Comparision between Quantity Ordered, Product Line along with Dealsize as Hue\n",
    "multivariate_analysis_visualizations(cars_df, \"PRODUCTLINE\", \"Product Line\", \"QUANTITYORDERED\", \"QUANTITY ORDERED\", \"DEALSIZE\",\"Deal Size\")\n",
    "print('\\n')\n",
    "#Comparision between Product Line, Product Line along with Dealsize as Hue\n",
    "multivariate_analysis_visualizations(cars_df, \"PRODUCTLINE\", \"Product Line\", \"PRICEEACH\", \"Price Each\", \"DEALSIZE\",\"Deal Size\")\n",
    "print('\\n')\n",
    "#Comparision between MSRP, Product Line along with Dealsize as Hue\n",
    "multivariate_analysis_visualizations(cars_df, \"PRODUCTLINE\", \"Product Line\", \"MSRP\", \"MSRP\", \"DEALSIZE\",\"Deal Size\")\n",
    "print('\\n')"
   ]
  },
  {
   "cell_type": "code",
   "execution_count": null,
   "id": "df84227f-c445-48ac-a401-28e15219c7a8",
   "metadata": {},
   "outputs": [],
   "source": [
    "def multivariate_analysis_visualization_sales(df, x_data, x_label, y_data, y_label):\n",
    "    '''\n",
    "    This user-defined function creates barplot visualization that provides insight into the sales(in thousands) of dollars in U.S. currency\n",
    "    based on both product line and deal size.\n",
    "    '''\n",
    "    sns.set(style=\"white\", rc={\"figure.figsize\": (15, 5)})\n",
    "    sns.[fill_in_blank](data=df, x=x_data, y=y_data, hue=\"Year\", palette = 'viridis',  ci=None)\n",
    "    plt.xlabel(x_label, fontsize=10)\n",
    "    plt.ylabel(y_label, fontsize=10)\n",
    "    plt.title(\"Yearly Sales\", fontsize=10)\n",
    "    for p in plt.gca().patches:\n",
    "        plt.gca().annotate(f'{p.get_height():.1f}K', (p.get_x() + p.get_width() / 2., p.get_height()), ha='center', va='bottom',fontsize=8)\n",
    "    plt.legend(title=\"Year\",fontsize=10,  loc=\"upper left\", bbox_to_anchor=(1, 1))\n",
    "    plt.show()"
   ]
  },
  {
   "cell_type": "code",
   "execution_count": null,
   "id": "28ef479f-b8b6-4b8f-aacc-360fa66d27f9",
   "metadata": {
    "tags": []
   },
   "outputs": [],
   "source": [
    "# Comparison between Product line, Sales (K), along with Year as the hue\n",
    "multivariate_analysis_visualization_sales(cars_df,\"PRODUCTLINE\", \"Product Line\", \"SALES (K)\", \"Sales(K)\")\n",
    "print('\\n')\n",
    "# Comparison between Deal Size, Sales (K), along with Year as the hue\n",
    "multivariate_analysis_visualization_sales(cars_df,\"DEALSIZE\", \"Deal Siz\", \"SALES (K)\", \"Sales(K)\")\n",
    "print('\\n')"
   ]
  },
  {
   "cell_type": "markdown",
   "id": "b0273e09-15cd-49a8-8ebc-6b8cd21c0a0c",
   "metadata": {},
   "source": [
    "### Trend of Price, MSRP and Selling Price Difference\n",
    "Selling Price Difference is calculated as the difference between manufactured suggested price and selling price. \n",
    "Which visualization would be good to analyze these data. What does this graphic display?"
   ]
  },
  {
   "cell_type": "code",
   "execution_count": null,
   "id": "f64d5735",
   "metadata": {},
   "outputs": [],
   "source": [
    "#Trend of Price, MSRP and Selling Price Difference\n",
    "# Selling Price Difference is calculated as the difference between manufactured suggested price and selling price. \n",
    "# Which visualization would be good to analyze these data. What does this graphic display?\n",
    "cars_df[\"SELLING_PRICE_DIFF\"] =  cars_df[\"PRICEEACH\"]-cars_df[\"MSRP\"]\n",
    "sns.set(style=\"whitegrid\", rc={\"figure.figsize\": (20, 5)})\n",
    "sns.[fill_in_blank](data=cars_df, x=\"ORDERDATE\", y=\"PRICEEACH\", ci=None, label=\"Price Each\", color='orange')\n",
    "sns.[fill_in_blank](data=cars_df, x=\"ORDERDATE\", y=\"MSRP\", ci=None, label=\"MSRP\", color='black')\n",
    "plt.fill_between(cars_df[\"ORDERDATE\"], cars_df[\"SELLING_PRICE_DIFF\"], where=(cars_df[\"SELLING_PRICE_DIFF\"] < 0), color=\"red\", alpha=0.7, label=\"Lower\")\n",
    "plt.fill_between(cars_df[\"ORDERDATE\"], cars_df[\"SELLING_PRICE_DIFF\"], where=(cars_df[\"SELLING_PRICE_DIFF\"] >= 0), color=\"green\", alpha=0.7, label=\"Higher\")\n",
    "plt.title(\"Trends of Price Each, MSRP, and Selling Price Difference\")\n",
    "plt.xlabel(\"Year\", fontsize=10)\n",
    "plt.ylabel(\"Values\", fontsize=10)\n",
    "plt.legend(loc='best')\n",
    "plt.show()"
   ]
  },
  {
   "cell_type": "markdown",
   "id": "3e3fcc96",
   "metadata": {},
   "source": [
    "### **Key Insights from Analysis** \n",
    "\n",
    "**Sales Overview:**\n",
    "\n",
    "* \n",
    "* \n",
    "* \n",
    "* \n",
    "* \n",
    "\n",
    "**Product and Revenue:**\n",
    "\n",
    "* \n",
    "* \n",
    "* \n",
    "\n",
    "**Sales Trends:**\n",
    "\n",
    "* \n",
    "* \n",
    "\n",
    "**Concern**\n",
    "\n",
    "* \n",
    "\n",
    "**Transaction Characteristics:**\n",
    "\n",
    "* \n",
    "\n",
    "**Key Customers:**\n",
    "\n",
    "* \n",
    "\n",
    "**Customer Retention:**\n",
    "\n",
    "* "
   ]
  }
 ],
 "metadata": {
  "kernelspec": {
   "display_name": "Python 3 (ipykernel)",
   "language": "python",
   "name": "python3"
  },
  "language_info": {
   "codemirror_mode": {
    "name": "ipython",
    "version": 3
   },
   "file_extension": ".py",
   "mimetype": "text/x-python",
   "name": "python",
   "nbconvert_exporter": "python",
   "pygments_lexer": "ipython3",
   "version": "3.11.7"
  }
 },
 "nbformat": 4,
 "nbformat_minor": 5
}
