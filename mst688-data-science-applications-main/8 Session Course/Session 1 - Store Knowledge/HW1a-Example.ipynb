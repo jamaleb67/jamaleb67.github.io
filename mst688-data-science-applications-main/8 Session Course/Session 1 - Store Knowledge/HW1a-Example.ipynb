{
 "cells": [
  {
   "cell_type": "markdown",
   "id": "5ebad929",
   "metadata": {},
   "source": [
    "# HW1 - Example"
   ]
  },
  {
   "cell_type": "markdown",
   "id": "108c267b",
   "metadata": {},
   "source": [
    "## Function to calculate the pythagorean theorem\n",
    "\n",
    "The pythagorean theorem defines the relationship between the lengths of three sides of a right triangle.\n",
    "\n",
    "$a^2+b^2=c^2$\n",
    "\n",
    "This can be rearranged to solve for the length of the hypotenuse when the length of the two legs are known.\n",
    "\n",
    "$c=\\sqrt {a^2+b^2}$"
   ]
  },
  {
   "cell_type": "code",
   "execution_count": 2,
   "id": "ffaf2847",
   "metadata": {},
   "outputs": [],
   "source": [
    "def pythag(a,b):\n",
    "    return ((a**2+b**2)**0.5)    # return the length of side c based on length of sides a and b"
   ]
  },
  {
   "cell_type": "markdown",
   "id": "37240a47",
   "metadata": {},
   "source": [
    "## Function to calculate the quadratic equation\n",
    "\n",
    "Given a second order polynomial of the form:\n",
    "\n",
    "$ax^2+bx+c=0$\n",
    "\n",
    "if the coefficients a, b, and c are known, the value of x can be solved using the equation:\n",
    "\n",
    "$x=\\frac {-b\\pm\\sqrt{b^2-4ac}} {2a}$"
   ]
  },
  {
   "cell_type": "code",
   "execution_count": 3,
   "id": "c61a00c2",
   "metadata": {},
   "outputs": [],
   "source": [
    "def quadratic(a,b,c):\n",
    "    # This solves the quadratic equation based on the definition.  It does not provide any special handling of conditions\n",
    "    # such as square root of a negative number or divide by zero.\n",
    "    x1=(-b+(b**2-4*a*c)**0.5)/(2*a)  # positive solution\n",
    "    x2=(-b-(b**2-4*a*c)**0.5)/(2*a)  # negative solution\n",
    "    return x1,x2"
   ]
  },
  {
   "cell_type": "markdown",
   "id": "4dc9f584",
   "metadata": {},
   "source": [
    "### Testing the functions"
   ]
  },
  {
   "cell_type": "code",
   "execution_count": 4,
   "id": "75d00ade",
   "metadata": {},
   "outputs": [
    {
     "name": "stdout",
     "output_type": "stream",
     "text": [
      "For right triangle with sides 3 and 4, the hypotenuse is: 5.0\n",
      "For quadratic with a=1, b=-3, c=2, x = (2.0, 1.0)\n"
     ]
    }
   ],
   "source": [
    "print(\"For right triangle with sides 3 and 4, the hypotenuse is: \"+str(pythag(3,4)))\n",
    "print(\"For quadratic with a=1, b=-3, c=2, x = \"+str(quadratic(1,-3,2)))"
   ]
  },
  {
   "cell_type": "markdown",
   "id": "c738410d",
   "metadata": {},
   "source": [
    "## How to solve systems of linear equations with Numpy\n",
    "\n",
    "Write equations in $ax+by=c$ form.  \n",
    "\n",
    "$1x+\\frac 1 2 y = 3$\n",
    "\n",
    "$2x+\\frac 1 2 y = 4$\n",
    "\n",
    "Then create a numpy matrix of the $x$ and $y$ coefficients ($A$) and a vector for the solutions ($b$) using the equation $Ax=b$.\n",
    "$$\\begin{bmatrix} 1 & \\frac 1 2 \\\\ 2 & \\frac 1 2 \\end{bmatrix} \\begin{bmatrix} x \\\\ y \\end{bmatrix} = \\begin{bmatrix} 3 \\\\ 4 \\end{bmatrix}$$\n",
    "\n",
    "Finally, use np.linalg.solve(A,b) to solve for x and y."
   ]
  },
  {
   "cell_type": "code",
   "execution_count": 5,
   "id": "85630966",
   "metadata": {},
   "outputs": [
    {
     "name": "stdout",
     "output_type": "stream",
     "text": [
      "x = 1.0\n",
      "y = 4.0\n"
     ]
    }
   ],
   "source": [
    "import numpy as np\n",
    "\n",
    "A=np.array([[1,1/2],[2,1/2]])\n",
    "b=np.array([3,4]).T\n",
    "(x,y)=np.linalg.solve(A,b)\n",
    "print(\"x = \"+str(x))\n",
    "print(\"y = \"+str(y))"
   ]
  },
  {
   "cell_type": "markdown",
   "id": "6a4a3cb5",
   "metadata": {},
   "source": [
    "### Plot to test"
   ]
  },
  {
   "cell_type": "code",
   "execution_count": 6,
   "id": "65892222",
   "metadata": {},
   "outputs": [
    {
     "name": "stdout",
     "output_type": "stream",
     "text": [
      "Using matplotlib backend: agg\n"
     ]
    },
    {
     "data": {
      "text/plain": [
       "[<matplotlib.lines.Line2D at 0x7f2a044c9f50>,\n",
       " <matplotlib.lines.Line2D at 0x7f2a044ea150>,\n",
       " <matplotlib.lines.Line2D at 0x7f2a044ea290>]"
      ]
     },
     "execution_count": 6,
     "metadata": {},
     "output_type": "execute_result"
    },
    {
     "data": {
      "image/png": "[encoded data removed]",
      "text/plain": [
       "<Figure size 432x288 with 1 Axes>"
      ]
     },
     "metadata": {
      "needs_background": "light"
     },
     "output_type": "display_data"
    }
   ],
   "source": [
    "%matplotlib\n",
    "import matplotlib.pyplot as plt\n",
    "%matplotlib inline\n",
    "X=np.arange(-10,11,1)\n",
    "Y1=-2*X+6\n",
    "Y2=-4*X+8\n",
    "plt.plot(X,Y1,'-',X,Y2,'-',x,y,'o')"
   ]
  },
  {
   "cell_type": "code",
   "execution_count": null,
   "id": "bf607240",
   "metadata": {},
   "outputs": [],
   "source": []
  }
 ],
 "metadata": {
  "kernelspec": {
   "display_name": "Python 3 (ipykernel)",
   "language": "python",
   "name": "python3"
  },
  "language_info": {
   "codemirror_mode": {
    "name": "ipython",
    "version": 3
   },
   "file_extension": ".py",
   "mimetype": "text/x-python",
   "name": "python",
   "nbconvert_exporter": "python",
   "pygments_lexer": "ipython3",
   "version": "3.7.11"
  }
 },
 "nbformat": 4,
 "nbformat_minor": 5
}
