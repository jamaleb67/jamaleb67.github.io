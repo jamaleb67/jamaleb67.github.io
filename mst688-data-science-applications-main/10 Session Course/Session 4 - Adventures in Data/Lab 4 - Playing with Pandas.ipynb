{
 "cells": [
  {
   "cell_type": "markdown",
   "id": "f176c37d",
   "metadata": {},
   "source": [
    "# Lab 4 - Playing with Pandas\n",
    "\n",
    "In this lab we will learn some of the basics of using Pandas data structures in python.  For a longer, more in-depth tutorial on Pandas, go to /mst688-data-science-applications/Basic Python Examples/D1_L5_Pandas/.\n",
    "\n",
    "Here are a couple links to additional notebooks with more examples.\n",
    "\n",
    "[Pandas Objects](../Basic%20Python%20Examples/D1_L5_Pandas/01-Introducing-Pandas-Objects.ipynb)<br>\n",
    "[Indexing and Selection](../Basic%20Python%20Examples/D1_L5_Pandas/02-Data-Indexing-and-Selection.ipynb)<br>\n"
   ]
  },
  {
   "cell_type": "markdown",
   "id": "eb96a0b8",
   "metadata": {},
   "source": [
    "## Storing data in data structures\n",
    "\n",
    "A Pandas series is a one-dimensional array of indexed data.  A DataFrame is a two-dimensional array of indexed data.  Series and DataFrames can be created in multiple ways by either entering the data directly or reading from an external file."
   ]
  },
  {
   "cell_type": "code",
   "execution_count": 63,
   "id": "5925f90b",
   "metadata": {},
   "outputs": [
    {
     "name": "stdout",
     "output_type": "stream",
     "text": [
      "Series from list: \n",
      "California    38332521\n",
      "Texas         26448193\n",
      "New York      19651127\n",
      "Florida       19552860\n",
      "Illinois      12882135\n",
      "dtype: int64\n",
      "<class 'pandas.core.series.Series'>\n",
      "\n",
      "Series from dictionary: \n",
      "California    423967\n",
      "Texas         695662\n",
      "New York      141297\n",
      "Florida       170312\n",
      "Illinois      149995\n",
      "dtype: int64\n",
      "<class 'pandas.core.series.Series'>\n",
      "\n",
      "DataFrame from Series:\n",
      "            population    area\n",
      "California    38332521  423967\n",
      "Texas         26448193  695662\n",
      "New York      19651127  141297\n",
      "Florida       19552860  170312\n",
      "Illinois      12882135  149995\n",
      "<class 'pandas.core.frame.DataFrame'>\n",
      "\n",
      "DataFrame from csv:\n",
      "            population    area\n",
      "name                          \n",
      "California    38332521  423967\n",
      "Texas         26448193  695662\n",
      "New York      19651127  141297\n",
      "Florida       19552860  170312\n",
      "Illinois      12882135  149995\n",
      "<class 'pandas.core.frame.DataFrame'>\n",
      "\n"
     ]
    }
   ],
   "source": [
    "import pandas as pd\n",
    "\n",
    "# Creating a series from a list of values and a list of labels (indices)\n",
    "population_list = pd.Series([ 38332521,26448193,19651127,19552860,12882135],\n",
    "                 index=['California','Texas','New York','Florida','Illinois'])\n",
    "\n",
    "print(\"Series from list: \")\n",
    "print(population_list)\n",
    "print(type(population_list))\n",
    "print()\n",
    "\n",
    "# Creating a series from a dictionary of key:value pairs\n",
    "area_dict = pd.Series({'California': 423967, 'Texas': 695662, 'New York': 141297,'Florida': 170312, 'Illinois': 149995})\n",
    "print(\"Series from dictionary: \")\n",
    "print(area_dict)\n",
    "print(type(area_dict))\n",
    "print()\n",
    "\n",
    "# Creating a DataFrame from two series.\n",
    "states_df = pd.DataFrame({'population': population_list,'area': area_dict})\n",
    "print(\"DataFrame from Series:\")\n",
    "print(states_df)\n",
    "print(type(states_df))\n",
    "print()\n",
    "\n",
    "#Creating a DataFrame from csv file.\n",
    "states_csv = pd.read_csv('states.csv',index_col='name')\n",
    "print(\"DataFrame from csv:\")\n",
    "print(states_csv)\n",
    "print(type(states_csv))\n",
    "print()"
   ]
  },
  {
   "cell_type": "markdown",
   "id": "e0882a28",
   "metadata": {},
   "source": [
    "## Data Indexing and Selection\n",
    "\n",
    "DataFrames make it easy to extract specific data as a smaller DataFrame, a new series, or an individual value."
   ]
  },
  {
   "cell_type": "code",
   "execution_count": 64,
   "id": "64ae4183",
   "metadata": {},
   "outputs": [
    {
     "name": "stdout",
     "output_type": "stream",
     "text": [
      "Series from DataFrame:\n",
      "California    423967\n",
      "Texas         695662\n",
      "New York      141297\n",
      "Florida       170312\n",
      "Illinois      149995\n",
      "Name: area, dtype: int64\n",
      "<class 'pandas.core.series.Series'>\n",
      "\n",
      "Specific value from DataFrame:\n",
      "Area of California = 423967\n",
      "\n",
      "Get subset of dataframe, Texas through Florida:\n",
      "          population    area\n",
      "Texas       26448193  695662\n",
      "New York    19651127  141297\n",
      "Florida     19552860  170312\n",
      "<class 'pandas.core.frame.DataFrame'>\n",
      "\n",
      "Get subset of dataframe, area > 200000:\n",
      "            population    area\n",
      "California    38332521  423967\n",
      "Texas         26448193  695662\n"
     ]
    }
   ],
   "source": [
    "# Get a series from a DataFrame\n",
    "area = states_df['area']\n",
    "print(\"Series from DataFrame:\")\n",
    "print(area)\n",
    "print(type(area))\n",
    "print()\n",
    "\n",
    "# Get a specific value from a DataFrame\n",
    "print(\"Specific value from DataFrame:\")\n",
    "print(\"Area of California = \"+str(states_df.loc['California','area']))\n",
    "print()\n",
    "\n",
    "# Get slices from a DataFrame based on index values\n",
    "print(\"Get subset of dataframe, Texas through Florida:\")\n",
    "print(states_df['Texas':'Florida'])\n",
    "print(type(states_df['Texas':'Florida']))\n",
    "print()\n",
    "\n",
    "# Get slice from a DataFrame based on numerical column\n",
    "print(\"Get subset of dataframe, area > 200000:\")\n",
    "print(states_df[states_df['area']>200000])"
   ]
  },
  {
   "cell_type": "markdown",
   "id": "09ecfe3c",
   "metadata": {},
   "source": [
    "## Modifying DataFrames\n",
    "When data is stored in a DataFrame, you can add rows or columns and even create calculated columns from the data in existing columns."
   ]
  },
  {
   "cell_type": "code",
   "execution_count": 66,
   "id": "e32308b8",
   "metadata": {},
   "outputs": [
    {
     "name": "stdout",
     "output_type": "stream",
     "text": [
      "Add a row to DataFrame:\n",
      "            population    area     density\n",
      "California    38332521  423967   90.413926\n",
      "Texas         26448193  695662   38.018740\n",
      "New York      19651127  141297  139.076746\n",
      "Florida       19552860  170312  114.806121\n",
      "Illinois      12882135  149995   85.883763\n",
      "Oklahoma       3949000  181038   21.813100\n",
      "Oklahoma       3949000  181038         NaN\n",
      "\n",
      "Add calculated column to DataFrame:\n",
      "            population    area     density\n",
      "California    38332521  423967   90.413926\n",
      "Texas         26448193  695662   38.018740\n",
      "New York      19651127  141297  139.076746\n",
      "Florida       19552860  170312  114.806121\n",
      "Illinois      12882135  149995   85.883763\n",
      "Oklahoma       3949000  181038   21.813100\n",
      "Oklahoma       3949000  181038   21.813100\n"
     ]
    }
   ],
   "source": [
    "# Add a row\n",
    "states_df = states_df.append(pd.DataFrame({'population':3949000,'area':181038},index=['Oklahoma']))\n",
    "print(\"Add a row to DataFrame:\")\n",
    "print(states_df)\n",
    "print()\n",
    "\n",
    "# Add a series as a column\n",
    "density = states_df['population']/states_df['area']\n",
    "states_df['density'] = density\n",
    "print(\"Add calculated column to DataFrame:\")\n",
    "print(states_df)\n"
   ]
  },
  {
   "cell_type": "code",
   "execution_count": null,
   "id": "452d65ef",
   "metadata": {},
   "outputs": [],
   "source": []
  }
 ],
 "metadata": {
  "kernelspec": {
   "display_name": "Python 3 (ipykernel)",
   "language": "python",
   "name": "python3"
  },
  "language_info": {
   "codemirror_mode": {
    "name": "ipython",
    "version": 3
   },
   "file_extension": ".py",
   "mimetype": "text/x-python",
   "name": "python",
   "nbconvert_exporter": "python",
   "pygments_lexer": "ipython3",
   "version": "3.7.11"
  }
 },
 "nbformat": 4,
 "nbformat_minor": 5
}
