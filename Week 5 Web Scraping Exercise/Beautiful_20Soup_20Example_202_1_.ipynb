


<!DOCTYPE HTML>
<html>

<head>
    <meta charset="utf-8">

    <title>JupyterHub</title>
    <meta http-equiv="X-UA-Compatible" content="chrome=1">
    <meta name="viewport" content="width=device-width, initial-scale=1.0">

    
    <link rel="stylesheet" href="/hub/static/css/style.min.css?v=bff49b4a161afb17ee3b71927ce7d6c4e5b0e4b9ef6f18ca3e356a05f29e69776d3a76aee167060dd2ae2ee62d3cfdcf203b4b0090b1423f7d629ea7daa3f9da" type="text/css"/>
    
    
    <link rel="icon" href="/hub/static/favicon.ico?v=fde5757cd3892b979919d3b1faa88a410f28829feb5ba22b6cf069f2c6c98675fceef90f932e49b510e74d65c681d5846b943e7f7cc1b41867422f0481085c1f" type="image/x-icon">
    
    
    <script src="/hub/static/components/requirejs/require.js?v=bd1aa102bdb0b27fbf712b32cfcd29b016c272acf3d864ee8469376eaddd032cadcf827ff17c05a8c8e20061418fe58cf79947049f5c0dff3b4f73fcc8cad8ec" type="text/javascript" charset="utf-8"></script>
    <script src="/hub/static/components/jquery/dist/jquery.min.js?v=f3de1813a4160f9239f4781938645e1589b876759cd50b7936dbd849a35c38ffaed53f6a61dbdd8a1cf43cf4a28aa9fffbfddeec9a3811a1bb4ee6df58652b31" type="text/javascript" charset="utf-8"></script>
    <script src="/hub/static/components/bootstrap/dist/js/bootstrap.min.js?v=a014e9acc78d10a0a7a9fbaa29deac6ef17398542d9574b77b40bf446155d210fa43384757e3837da41b025998ebfab4b9b6f094033f9c226392b800df068bce" type="text/javascript" charset="utf-8"></script>
    
    <script>
      require.config({
          
          urlArgs: "v=20220307222204",
          
          baseUrl: '/hub/static/js',
          paths: {
            components: '../components',
            jquery: '../components/jquery/dist/jquery.min',
            bootstrap: '../components/bootstrap/dist/js/bootstrap.min',
            moment: "../components/moment/moment",
          },
          shim: {
            bootstrap: {
              deps: ["jquery"],
              exports: "bootstrap"
            },
          }
      });
    </script>

    <script type="text/javascript">
      window.jhdata = {
        base_url: "/hub/",
        prefix: "/",
        
        
        admin_access: false,
        
        
        options_form: false,
        
      }
    </script>

    
    

</head>

<body>

<noscript>
  <div id='noscript'>
    JupyterHub requires JavaScript.<br>
    Please enable it to proceed.
  </div>
</noscript>


  <nav class="navbar navbar-default">
    <div class="container-fluid">
      <div class="navbar-header">
        
        <span id="jupyterhub-logo" class="pull-left">
            <a href="/hub/"><img src='/hub/logo' alt='JupyterHub' class='jpy-logo' title='Home'/></a>
        </span>
        
        
      </div>

      <div class="collapse navbar-collapse" id="thenavbar">
        
        <ul class="nav navbar-nav navbar-right">
          
            <li>
              
                <span id="login_widget">
                  
                    <a id="login" role="button" class="btn-sm btn navbar-btn btn-default" href="/hub/login">Login</a>
                  
                </span>
              
            </li>
          
        </ul>
      </div>

      
      
    </div>
  </nav>









<script type="text/javascript">
document.addEventListener('DOMContentLoaded', function() {
    let button = document.getElementById('eye');
    button.addEventListener("click", function(e) {
        let pwd = document.getElementById("password_input");
        if (pwd.getAttribute("type") === "password") {
            pwd.setAttribute("type", "text");
            button.textContent = "🔑";
        } else {
            pwd.setAttribute("type", "password");
            button.textContent = "👁";
        }
    });
});
</script>

<div id="login-main" class="container">
    <form action="/hub/login?next=%2Fhub%2Fapi%2Foauth2%2Fauthorize%3Fclient_id%3Djupyterhub-user-jsh66%26redirect_uri%3D%252Fuser%252Fjsh66%252Foauth_callback%26response_type%3Dcode%26state%3DeyJ1dWlkIjogImRiNGMyYjIyYTkwMzQ5NTZhODQ3NTY2YWM4NjU4YTc2IiwgIm5leHRfdXJsIjogIi91c2VyL2pzaDY2L25vdGVib29rcy9CZWF1dGlmdWwlMjBTb3VwJTIwRXhhbXBsZSUyMDIuaXB5bmIiLCAiY29va2llX25hbWUiOiAianVweXRlcmh1Yi11c2VyLWpzaDY2LW9hdXRoLXN0YXRlLVphVFFpeHRKIn0" method="post" role="form">
        <div class="auth-form-header">
            Sign In
        </div>
        <div class='auth-form-body'>
            <p id='insecure-login-warning' class='hidden'>
                Warning: JupyterHub seems to be served over an unsecured HTTP connection.
                We strongly recommend enabling HTTPS for JupyterHub.
            </p>
            
            <label for="username_input">Username:</label>
            <input id="username_input" type="text" autocapitalize="off" autocorrect="off" class="form-control" name="username" val="" tabindex="1" autofocus="autofocus" />
            <p></p>
            <label for='password_input'>Password:</label>
            <div class="input-group">
                <input type="password" class="form-control" name="password" id="password_input" tabindex="2" />
                <span class="input-group-addon">
                    <button style="border:0;" type="button" id="eye">
                        👁
                    </button>
                </span>
            </div>
            
            <input type="submit" id="login_submit" class='btn btn-jupyter' value='Sign In' tabindex="3" />
            
            <div style="padding-top: 25px;">
                <p>Don't have an account? <a href="/hub/signup">Signup!</a></p>
            </div>
            
        </div>
    </form>
</div>









<div class="modal fade" id="error-dialog" tabindex="-1" role="dialog" aria-labelledby="error-label" aria-hidden="true">
  <div class="modal-dialog">
    <div class="modal-content">
      <div class="modal-header">
        <button type="button" class="close" data-dismiss="modal"><span aria-hidden="true">&times;</span><span class="sr-only">Close</span></button>
        <h4 class="modal-title" id="error-label">Error</h4>
      </div>
      <div class="modal-body">
        
  <div class="ajax-error">
    The error
  </div>

      </div>
      <div class="modal-footer">
        <button type="button" class="btn btn-default" data-dismiss="modal">Cancel</button>
        <button type="button" class="btn btn-primary" data-dismiss="modal" data-dismiss="modal">OK</button>
      </div>
    </div>
  </div>
</div>





<script>
if (window.location.protocol === "http:") {
    // unhide http warning
    let warning = document.getElementById('insecure-login-warning');
    warning.className = warning.className.replace(/\bhidden\b/, '');
}
</script>


</body>

</html>